{
 "cells": [
  {
   "cell_type": "code",
   "execution_count": 1,
   "metadata": {
    "collapsed": true
   },
   "outputs": [],
   "source": [
    "# irisデータのロード\n",
    "from sklearn.datasets import load_iris\n",
    "import numpy as np\n",
    "iris = load_iris()\n",
    "X = iris.data\n",
    "y = iris.target # クラスラベルは今回は未知とする"
   ]
  },
  {
   "cell_type": "code",
   "execution_count": 2,
   "metadata": {
    "collapsed": true
   },
   "outputs": [],
   "source": [
    "# データの標準化\n",
    "from sklearn.preprocessing import StandardScaler\n",
    "scaler = StandardScaler()\n",
    "scaler.fit(X)\n",
    "X_std = scaler.fit_transform(X)"
   ]
  },
  {
   "cell_type": "code",
   "execution_count": 3,
   "metadata": {
    "collapsed": true
   },
   "outputs": [],
   "source": [
    "# 主成分分析の実行\n",
    "from sklearn.decomposition import PCA\n",
    "pca = PCA(n_components=4)\n",
    "X_pca = pca.fit_transform(X_std)"
   ]
  },
  {
   "cell_type": "code",
   "execution_count": 4,
   "metadata": {
    "collapsed": true
   },
   "outputs": [],
   "source": [
    "# k-means法を実行\n",
    "from sklearn.cluster import KMeans\n",
    "km = KMeans(n_clusters=3,   # クラスタの個数を指定\n",
    "            init='random',  # セントロイドの初期値の決め方を決定\n",
    "            n_init=10,      # 異なるセントロイドの初期値を用いての実行回数\n",
    "            max_iter=300,   # ひとつのセントロイドを用いたときの最大イテレーション回数\n",
    "            tol=1e-04,      # 収束と判定するための相対的な許容誤差\n",
    "            random_state=0, # セントロイドの初期化に用いる乱数生成器の状態\n",
    "           )\n",
    "\n",
    "# クラスラベルを予測\n",
    "y_km = km.fit_predict(X_pca[:, 0:2])"
   ]
  },
  {
   "cell_type": "code",
   "execution_count": 5,
   "metadata": {
    "collapsed": true
   },
   "outputs": [],
   "source": [
    "# クラスタリングの結果を出力\n",
    "import matplotlib.pyplot as plt\n",
    "% matplotlib inline\n",
    "\n",
    "# クラスタリングの結果をプロットする関数\n",
    "# (クラスタの数, 学習器, 学習データ)\n",
    "def kmeans_plot(n_clusters, km, X):\n",
    "    # クラスタの予測値を算出\n",
    "    y_km = km.fit_predict(X)\n",
    "    \n",
    "    # クラスタごとに散布図をプロット\n",
    "    # 5クラスまでプロットできる\n",
    "    for i, color, marker in zip(range(n_clusters), 'rgbcm', '>o+xv'):\n",
    "        plt.scatter(X[y_km==i, 0],            # 横軸の値\n",
    "                    X[y_km==i, 1],            # 縦軸の値\n",
    "                    color=color,              # プロットの色\n",
    "                    marker=marker,            # プロットの形\n",
    "                    label='cluster ' + str(i) # ラベル\n",
    "                   )\n",
    "    \n",
    "    # クラスタの中心をプロット\n",
    "    plt.scatter(km.cluster_centers_[:, 0],    # 横軸の値\n",
    "                km.cluster_centers_[:, 1],    # 縦軸の値\n",
    "                color='y',                    # プロットの色\n",
    "                marker='*',                   # プロットの形\n",
    "                label='centroids',            # ラベル\n",
    "                s=300,                        # プロットのサイズを大きくして見やすくする\n",
    "               )\n",
    "    \n",
    "    plt.legend()\n",
    "    plt.grid()\n",
    "    plt.show()"
   ]
  },
  {
   "cell_type": "code",
   "execution_count": 6,
   "metadata": {},
   "outputs": [
    {
     "data": {
      "image/png": "[encoded data removed]",
      "text/plain": [
       "<matplotlib.figure.Figure at 0x1194e74a8>"
      ]
     },
     "metadata": {},
     "output_type": "display_data"
    }
   ],
   "source": [
    "# プロットを実行\n",
    "kmeans_plot(3, km, X_pca[:, 0:2])"
   ]
  },
  {
   "cell_type": "code",
   "execution_count": null,
   "metadata": {
    "collapsed": true
   },
   "outputs": [],
   "source": []
  }
 ],
 "metadata": {
  "kernelspec": {
   "display_name": "Python 3",
   "language": "python",
   "name": "python3"
  },
  "language_info": {
   "codemirror_mode": {
    "name": "ipython",
    "version": 3
   },
   "file_extension": ".py",
   "mimetype": "text/x-python",
   "name": "python",
   "nbconvert_exporter": "python",
   "pygments_lexer": "ipython3",
   "version": "3.6.2"
  }
 },
 "nbformat": 4,
 "nbformat_minor": 2
}
