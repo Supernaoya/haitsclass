{
 "cells": [
  {
   "cell_type": "markdown",
   "metadata": {},
   "source": [
    "# 解答例\n",
    "## 第1問"
   ]
  },
  {
   "cell_type": "code",
   "execution_count": 3,
   "metadata": {
    "collapsed": true
   },
   "outputs": [],
   "source": [
    "class YenToCurrency():\n",
    "    def __init__(self,yen):\n",
    "        self.yen = yen\n",
    "        \n",
    "    def doll(self):\n",
    "        doll = self.yen / 100\n",
    "        print(\"{}円は{}ドルです。\".format(self.yen,doll))\n",
    "        \n",
    "    def euro(self):\n",
    "        euro = self.yen / 120\n",
    "        print(\"{}円は{}ユーロです。\".format(self.yen,euro))\n",
    "    \n",
    "    def yuen(self):\n",
    "        yuen = self.yen / 15\n",
    "        print(\"{}円は{}元です。\".format(self.yen,yuen))\n",
    "    \n",
    "    def won(self):\n",
    "        won = self.yen / 0.1\n",
    "        print(\"{}円は{}ウォンです。\".format(self.yen,won))"
   ]
  },
  {
   "cell_type": "code",
   "execution_count": 4,
   "metadata": {
    "collapsed": false
   },
   "outputs": [
    {
     "name": "stdout",
     "output_type": "stream",
     "text": [
      "1200円は12.0ドルです。\n"
     ]
    }
   ],
   "source": [
    "exchange = YenToCurrency(1200)\n",
    "exchange.doll()"
   ]
  },
  {
   "cell_type": "markdown",
   "metadata": {},
   "source": [
    "# 第2問\n",
    "## 1)"
   ]
  },
  {
   "cell_type": "code",
   "execution_count": 5,
   "metadata": {
    "collapsed": false
   },
   "outputs": [
    {
     "data": {
      "text/html": [
       "<div>\n",
       "<table border=\"1\" class=\"dataframe\">\n",
       "  <thead>\n",
       "    <tr style=\"text-align: right;\">\n",
       "      <th></th>\n",
       "      <th>name</th>\n",
       "      <th>birth_year</th>\n",
       "      <th>height(cm)</th>\n",
       "      <th>weight(kg)</th>\n",
       "      <th>sex</th>\n",
       "    </tr>\n",
       "  </thead>\n",
       "  <tbody>\n",
       "    <tr>\n",
       "      <th>0</th>\n",
       "      <td>Yutaro</td>\n",
       "      <td>1997</td>\n",
       "      <td>175</td>\n",
       "      <td>57</td>\n",
       "      <td>M</td>\n",
       "    </tr>\n",
       "    <tr>\n",
       "      <th>1</th>\n",
       "      <td>Koki</td>\n",
       "      <td>1995</td>\n",
       "      <td>183</td>\n",
       "      <td>70</td>\n",
       "      <td>M</td>\n",
       "    </tr>\n",
       "    <tr>\n",
       "      <th>2</th>\n",
       "      <td>Ayumi</td>\n",
       "      <td>1993</td>\n",
       "      <td>162</td>\n",
       "      <td>46</td>\n",
       "      <td>F</td>\n",
       "    </tr>\n",
       "    <tr>\n",
       "      <th>3</th>\n",
       "      <td>Manami</td>\n",
       "      <td>1998</td>\n",
       "      <td>158</td>\n",
       "      <td>39</td>\n",
       "      <td>F</td>\n",
       "    </tr>\n",
       "    <tr>\n",
       "      <th>4</th>\n",
       "      <td>Daichi</td>\n",
       "      <td>1995</td>\n",
       "      <td>172</td>\n",
       "      <td>70</td>\n",
       "      <td>M</td>\n",
       "    </tr>\n",
       "    <tr>\n",
       "      <th>5</th>\n",
       "      <td>Tomoya</td>\n",
       "      <td>1996</td>\n",
       "      <td>164</td>\n",
       "      <td>58</td>\n",
       "      <td>M</td>\n",
       "    </tr>\n",
       "    <tr>\n",
       "      <th>6</th>\n",
       "      <td>Rika</td>\n",
       "      <td>1989</td>\n",
       "      <td>168</td>\n",
       "      <td>48</td>\n",
       "      <td>F</td>\n",
       "    </tr>\n",
       "    <tr>\n",
       "      <th>7</th>\n",
       "      <td>Yui</td>\n",
       "      <td>1988</td>\n",
       "      <td>171</td>\n",
       "      <td>49</td>\n",
       "      <td>F</td>\n",
       "    </tr>\n",
       "    <tr>\n",
       "      <th>8</th>\n",
       "      <td>Kenta</td>\n",
       "      <td>1985</td>\n",
       "      <td>167</td>\n",
       "      <td>67</td>\n",
       "      <td>M</td>\n",
       "    </tr>\n",
       "    <tr>\n",
       "      <th>9</th>\n",
       "      <td>Mariko</td>\n",
       "      <td>1991</td>\n",
       "      <td>165</td>\n",
       "      <td>51</td>\n",
       "      <td>F</td>\n",
       "    </tr>\n",
       "  </tbody>\n",
       "</table>\n",
       "</div>"
      ],
      "text/plain": [
       "     name  birth_year  height(cm)  weight(kg) sex\n",
       "0  Yutaro        1997         175          57   M\n",
       "1    Koki        1995         183          70   M\n",
       "2   Ayumi        1993         162          46   F\n",
       "3  Manami        1998         158          39   F\n",
       "4  Daichi        1995         172          70   M\n",
       "5  Tomoya        1996         164          58   M\n",
       "6    Rika        1989         168          48   F\n",
       "7     Yui        1988         171          49   F\n",
       "8   Kenta        1985         167          67   M\n",
       "9  Mariko        1991         165          51   F"
      ]
     },
     "execution_count": 5,
     "metadata": {},
     "output_type": "execute_result"
    }
   ],
   "source": [
    "from pandas import Series,DataFrame\n",
    "import pandas as pd\n",
    "data = pd.DataFrame( {'name': ['Yutaro','Koki','Ayumi','Manami','Daichi',\n",
    "                               'Tomoya','Rika','Yui','Kenta','Mariko'],\n",
    "                      'birth_year': [1997, 1995, 1993, 1998, 1995,\n",
    "                                     1996, 1989, 1988, 1985, 1991],\n",
    "                      'height(cm)': [175, 183, 162, 158, 172, 164, 168, 171, 167, 165],\n",
    "                      'weight(kg)': [57, 70, 46, 39, 70, 58, 48, 49, 67, 51],\n",
    "                      'sex': ['M', 'M', 'F', 'F', 'M', 'M', 'F', 'F', 'M', 'F']},\n",
    "                    columns=['name', 'birth_year', 'height(cm)', 'weight(kg)', 'sex'])\n",
    "\n",
    "data"
   ]
  },
  {
   "cell_type": "markdown",
   "metadata": {},
   "source": [
    "## 2)"
   ]
  },
  {
   "cell_type": "code",
   "execution_count": 6,
   "metadata": {
    "collapsed": false
   },
   "outputs": [
    {
     "data": {
      "text/html": [
       "<div>\n",
       "<table border=\"1\" class=\"dataframe\">\n",
       "  <thead>\n",
       "    <tr style=\"text-align: right;\">\n",
       "      <th></th>\n",
       "      <th>name</th>\n",
       "      <th>birth_year</th>\n",
       "      <th>height(cm)</th>\n",
       "      <th>weight(kg)</th>\n",
       "      <th>sex</th>\n",
       "    </tr>\n",
       "  </thead>\n",
       "  <tbody>\n",
       "    <tr>\n",
       "      <th>2</th>\n",
       "      <td>Ayumi</td>\n",
       "      <td>1993</td>\n",
       "      <td>162</td>\n",
       "      <td>46</td>\n",
       "      <td>F</td>\n",
       "    </tr>\n",
       "    <tr>\n",
       "      <th>6</th>\n",
       "      <td>Rika</td>\n",
       "      <td>1989</td>\n",
       "      <td>168</td>\n",
       "      <td>48</td>\n",
       "      <td>F</td>\n",
       "    </tr>\n",
       "    <tr>\n",
       "      <th>7</th>\n",
       "      <td>Yui</td>\n",
       "      <td>1988</td>\n",
       "      <td>171</td>\n",
       "      <td>49</td>\n",
       "      <td>F</td>\n",
       "    </tr>\n",
       "    <tr>\n",
       "      <th>8</th>\n",
       "      <td>Kenta</td>\n",
       "      <td>1985</td>\n",
       "      <td>167</td>\n",
       "      <td>67</td>\n",
       "      <td>M</td>\n",
       "    </tr>\n",
       "    <tr>\n",
       "      <th>9</th>\n",
       "      <td>Mariko</td>\n",
       "      <td>1991</td>\n",
       "      <td>165</td>\n",
       "      <td>51</td>\n",
       "      <td>F</td>\n",
       "    </tr>\n",
       "  </tbody>\n",
       "</table>\n",
       "</div>"
      ],
      "text/plain": [
       "     name  birth_year  height(cm)  weight(kg) sex\n",
       "2   Ayumi        1993         162          46   F\n",
       "6    Rika        1989         168          48   F\n",
       "7     Yui        1988         171          49   F\n",
       "8   Kenta        1985         167          67   M\n",
       "9  Mariko        1991         165          51   F"
      ]
     },
     "execution_count": 6,
     "metadata": {},
     "output_type": "execute_result"
    }
   ],
   "source": [
    "data2 = data[data.birth_year < 1995]\n",
    "data2"
   ]
  },
  {
   "cell_type": "markdown",
   "metadata": {},
   "source": [
    "## 3)"
   ]
  },
  {
   "cell_type": "code",
   "execution_count": 7,
   "metadata": {
    "collapsed": false
   },
   "outputs": [
    {
     "data": {
      "image/png": "[encoded data removed]",
      "text/plain": [
       "<matplotlib.figure.Figure at 0x11036d710>"
      ]
     },
     "metadata": {},
     "output_type": "display_data"
    }
   ],
   "source": [
    "import matplotlib.pyplot as plt\n",
    "% matplotlib inline\n",
    "\n",
    "#男子だけのデータを取り出します。\n",
    "data_male = data[data.sex == \"M\"]\n",
    "\n",
    "#男子の身長データ,体重データを取り出します。[]の中を記述してください。\n",
    "male_height = data_male['height(cm)']\n",
    "male_weight = data_male['weight(kg)']\n",
    "\n",
    "#女子だけのデータを取り出します。\n",
    "data_female = data[data.sex == \"F\"]\n",
    "\n",
    "#女子の身長データと体重データを取り出します。[]の中を記述してください。\n",
    "female_height = data_female['height(cm)']\n",
    "female_weight = data_female['weight(kg)']\n",
    "\n",
    "#取り出したデータをプロットしてください。(点の色と形状はなんでもいいですが、ラベルの名前は'Male','Female'にしてください。)\n",
    "\n",
    "plt.scatter(male_height, male_weight , color='blue', marker='s', label='Male')   # 1つ目のデータの散布図を､ラベルを指定してプロット\n",
    "plt.scatter(female_height, female_weight, color='red', marker='x', label='Female')  # 2つ目のデータの散布図を､ラベルを指定してプロット\n",
    "plt.title('The relationship between height and weight')        #グラフのタイトルを表示\n",
    "plt.xlabel('height')                                           # x軸のラベルを表示\n",
    "plt.ylabel('weight')                                           # y軸のラベルを表示\n",
    "plt.legend(loc='lower right')                                  #凡例を表示\n",
    "plt.show()\n"
   ]
  }
 ],
 "metadata": {
  "kernelspec": {
   "display_name": "Python 3",
   "language": "python",
   "name": "python3"
  },
  "language_info": {
   "codemirror_mode": {
    "name": "ipython",
    "version": 3
   },
   "file_extension": ".py",
   "mimetype": "text/x-python",
   "name": "python",
   "nbconvert_exporter": "python",
   "pygments_lexer": "ipython3",
   "version": "3.6.0"
  }
 },
 "nbformat": 4,
 "nbformat_minor": 2
}
