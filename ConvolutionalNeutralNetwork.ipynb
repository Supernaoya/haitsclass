{
 "cells": [
  {
   "cell_type": "code",
   "execution_count": 1,
   "metadata": {
    "collapsed": true
   },
   "outputs": [],
   "source": [
    "# 必要なライブラリの読み込み\n",
    "%matplotlib inline\n",
    "import matplotlib.pyplot as plt\n",
    "import numpy as np"
   ]
  },
  {
   "cell_type": "code",
   "execution_count": 2,
   "metadata": {},
   "outputs": [
    {
     "data": {
      "text/plain": [
       "('label.pickle', <http.client.HTTPMessage at 0x104d2f198>)"
      ]
     },
     "execution_count": 2,
     "metadata": {},
     "output_type": "execute_result"
    }
   ],
   "source": [
    "# データセットのダウンロード\n",
    "# 2回目以降は実行する必要はありません\n",
    "from urllib import request\n",
    "\n",
    "# trainデータのダウンロード\n",
    "url = 'https://s3-ap-northeast-1.amazonaws.com/ai-std/train.pickle'\n",
    "request.urlretrieve(url, 'train.pickle')\n",
    "\n",
    "# testデータのダウンロード\n",
    "url = 'https://s3-ap-northeast-1.amazonaws.com/ai-std/test.pickle'\n",
    "request.urlretrieve(url, 'test.pickle')\n",
    "\n",
    "# ラベルデータのダウンロード\n",
    "url = 'https://s3-ap-northeast-1.amazonaws.com/ai-std/label.pickle'\n",
    "request.urlretrieve(url, 'label.pickle')"
   ]
  },
  {
   "cell_type": "code",
   "execution_count": 3,
   "metadata": {},
   "outputs": [
    {
     "name": "stdout",
     "output_type": "stream",
     "text": [
      "保存されるオブジェクトです\n"
     ]
    }
   ],
   "source": [
    "# pickleのサンプルプログラム\n",
    "import pickle\n",
    "\n",
    "# 適当なオブジェクトを用意\n",
    "obj = '保存されるオブジェクトです'\n",
    "\n",
    "# Pythonオブジェクトをpickleファイルとして保存\n",
    "with open('sample.pickle','wb') as f:\n",
    "    pickle.dump(obj, f) # (Pythonオブジェクト, pickleファイル)\n",
    "\n",
    "# pickleファイルをPythonオブジェクトとして読込\n",
    "with open('sample.pickle','rb') as f:\n",
    "    loaded_obj = pickle.load(f)  # (pickleファイル)\n",
    "\n",
    "# 読み込んだオブジェクトを確認\n",
    "print(loaded_obj)"
   ]
  },
  {
   "cell_type": "code",
   "execution_count": 4,
   "metadata": {
    "collapsed": true
   },
   "outputs": [],
   "source": [
    "# pickle形式のファイルを読み込む関数\n",
    "# (保存されたpickleファイル)\n",
    "def unpickle(file):\n",
    "    # 保存されたpickleファイルを読み込み\n",
    "    # 'rb'は｢読み込み専用(r)｣かつ｢バイト列(b)｣を意味する\n",
    "    with open(file, 'rb') as f:\n",
    "        return pickle.load(f, encoding='bytes')"
   ]
  },
  {
   "cell_type": "code",
   "execution_count": 5,
   "metadata": {
    "collapsed": true
   },
   "outputs": [],
   "source": [
    "# データの読み込みを実行\n",
    "train = unpickle('train.pickle')\n",
    "test = unpickle('test.pickle')\n",
    "label = unpickle('label.pickle')"
   ]
  },
  {
   "cell_type": "code",
   "execution_count": 6,
   "metadata": {},
   "outputs": [
    {
     "name": "stdout",
     "output_type": "stream",
     "text": [
      "<class 'dict'>\n",
      "<class 'dict'>\n",
      "<class 'list'>\n"
     ]
    }
   ],
   "source": [
    "# trainデータの型を確認\n",
    "print(type(train))\n",
    "print(type(test))\n",
    "print(type(label))"
   ]
  },
  {
   "cell_type": "code",
   "execution_count": 13,
   "metadata": {},
   "outputs": [
    {
     "data": {
      "text/plain": [
       "['clock', 'cup', 'bicycle', 'television', 'chair']"
      ]
     },
     "execution_count": 13,
     "metadata": {},
     "output_type": "execute_result"
    }
   ],
   "source": [
    "# クラスラベルを確認\n",
    "label"
   ]
  },
  {
   "cell_type": "code",
   "execution_count": 20,
   "metadata": {
    "collapsed": true
   },
   "outputs": [],
   "source": [
    "#データを変数に格納\n",
    "X_train = train['data']\n",
    "y_train = train['label']\n",
    "X_test = test['data']\n",
    "y_test = test['label']"
   ]
  },
  {
   "cell_type": "code",
   "execution_count": 21,
   "metadata": {},
   "outputs": [
    {
     "name": "stdout",
     "output_type": "stream",
     "text": [
      "2500 500\n"
     ]
    }
   ],
   "source": [
    "# サンプル数を確認\n",
    "N_train = len(X_train)  \n",
    "N_test = len(X_test)\n",
    "print(N_train, N_test)\n"
   ]
  },
  {
   "cell_type": "code",
   "execution_count": 22,
   "metadata": {},
   "outputs": [
    {
     "name": "stdout",
     "output_type": "stream",
     "text": [
      "(2500, 3, 32, 32)\n",
      "(500, 3, 32, 32)\n"
     ]
    }
   ],
   "source": [
    "# 画像サイズを確認\n",
    "# 3チャンネル × 縦32ピクセル × 横32ピクセル\n",
    "print(train['data'].shape)\n",
    "print(test['data'].shape)"
   ]
  },
  {
   "cell_type": "code",
   "execution_count": 24,
   "metadata": {
    "collapsed": true
   },
   "outputs": [],
   "source": [
    "# 正規化処理\n",
    "X_train/=255.0\n",
    "X_test/=255.0"
   ]
  },
  {
   "cell_type": "code",
   "execution_count": 25,
   "metadata": {
    "collapsed": true
   },
   "outputs": [],
   "source": [
    "# testデータのサンプルについて情報を確認する関数\n",
    "# (testデータのindex)\n",
    "def show_test_sample_info(index):\n",
    "    # (channel, height, width)を(height, width, channel)に変換\n",
    "    img = X_test[index].transpose(1,2,0)\n",
    "    \n",
    "    # 画像を出力\n",
    "    plt.imshow(img)\n",
    "    plt.show()\n",
    "    \n",
    "    # 正解ラベルを出力\n",
    "    print('class: ' + label[y_test[index]])\n",
    "    print('label: ' + str(y_test[index]))"
   ]
  },
  {
   "cell_type": "code",
   "execution_count": 29,
   "metadata": {},
   "outputs": [
    {
     "data": {
      "image/png": "[encoded data removed]",
      "text/plain": [
       "<matplotlib.figure.Figure at 0x107429748>"
      ]
     },
     "metadata": {},
     "output_type": "display_data"
    },
    {
     "name": "stdout",
     "output_type": "stream",
     "text": [
      "class: bicycle\n",
      "label: 2\n"
     ]
    }
   ],
   "source": [
    "# testデータのサンプルについて情報を確認\n",
    "# 引数のindexを変えていろいろな画像を出力してみましょう\n",
    "show_test_sample_info(290)"
   ]
  },
  {
   "cell_type": "code",
   "execution_count": null,
   "metadata": {
    "collapsed": true
   },
   "outputs": [],
   "source": []
  }
 ],
 "metadata": {
  "kernelspec": {
   "display_name": "Python 3",
   "language": "python",
   "name": "python3"
  },
  "language_info": {
   "codemirror_mode": {
    "name": "ipython",
    "version": 3
   },
   "file_extension": ".py",
   "mimetype": "text/x-python",
   "name": "python",
   "nbconvert_exporter": "python",
   "pygments_lexer": "ipython3",
   "version": "3.6.2"
  }
 },
 "nbformat": 4,
 "nbformat_minor": 2
}
