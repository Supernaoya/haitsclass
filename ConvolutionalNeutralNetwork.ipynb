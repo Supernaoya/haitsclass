{
 "cells": [
  {
   "cell_type": "code",
   "execution_count": 5,
   "metadata": {
    "collapsed": true
   },
   "outputs": [],
   "source": [
    "# 必要なライブラリの読み込み\n",
    "%matplotlib inline\n",
    "import matplotlib.pyplot as plt\n",
    "import numpy as np"
   ]
  },
  {
   "cell_type": "code",
   "execution_count": null,
   "metadata": {},
   "outputs": [],
   "source": [
    "# データセットのダウンロード\n",
    "# 2回目以降は実行する必要はありません\n",
    "from urllib import request\n",
    "\n",
    "# trainデータのダウンロード\n",
    "url = 'https://s3-ap-northeast-1.amazonaws.com/ai-std/train.pickle'\n",
    "request.urlretrieve(url, 'train.pickle')\n",
    "\n",
    "# testデータのダウンロード\n",
    "url = 'https://s3-ap-northeast-1.amazonaws.com/ai-std/test.pickle'\n",
    "request.urlretrieve(url, 'test.pickle')\n",
    "\n",
    "# ラベルデータのダウンロード\n",
    "url = 'https://s3-ap-northeast-1.amazonaws.com/ai-std/label.pickle'\n",
    "request.urlretrieve(url, 'label.pickle')"
   ]
  },
  {
   "cell_type": "code",
   "execution_count": null,
   "metadata": {},
   "outputs": [],
   "source": [
    "# pickleのサンプルプログラム\n",
    "import pickle\n",
    "\n",
    "# 適当なオブジェクトを用意\n",
    "obj = '保存されるオブジェクトです'\n",
    "\n",
    "# Pythonオブジェクトをpickleファイルとして保存\n",
    "with open('sample.pickle','wb') as f:\n",
    "    pickle.dump(obj, f) # (Pythonオブジェクト, pickleファイル)\n",
    "\n",
    "# pickleファイルをPythonオブジェクトとして読込\n",
    "with open('sample.pickle','rb') as f:\n",
    "    loaded_obj = pickle.load(f)  # (pickleファイル)\n",
    "\n",
    "# 読み込んだオブジェクトを確認\n",
    "print(loaded_obj)"
   ]
  },
  {
   "cell_type": "code",
   "execution_count": null,
   "metadata": {
    "collapsed": true
   },
   "outputs": [],
   "source": [
    "# pickle形式のファイルを読み込む関数\n",
    "# (保存されたpickleファイル)\n",
    "def unpickle(file):\n",
    "    # 保存されたpickleファイルを読み込み\n",
    "    # 'rb'は｢読み込み専用(r)｣かつ｢バイト列(b)｣を意味する\n",
    "    with open(file, 'rb') as f:\n",
    "        return pickle.load(f, encoding='bytes')"
   ]
  },
  {
   "cell_type": "code",
   "execution_count": 5,
   "metadata": {
    "collapsed": true
   },
   "outputs": [],
   "source": [
    "# データの読み込みを実行\n",
    "train = unpickle('train.pickle')\n",
    "test = unpickle('test.pickle')\n",
    "label = unpickle('label.pickle')"
   ]
  },
  {
   "cell_type": "code",
   "execution_count": 6,
   "metadata": {},
   "outputs": [
    {
     "name": "stdout",
     "output_type": "stream",
     "text": [
      "<class 'dict'>\n",
      "<class 'dict'>\n",
      "<class 'list'>\n"
     ]
    }
   ],
   "source": [
    "# trainデータの型を確認\n",
    "print(type(train))\n",
    "print(type(test))\n",
    "print(type(label))"
   ]
  },
  {
   "cell_type": "code",
   "execution_count": 13,
   "metadata": {},
   "outputs": [
    {
     "data": {
      "text/plain": [
       "['clock', 'cup', 'bicycle', 'television', 'chair']"
      ]
     },
     "execution_count": 13,
     "metadata": {},
     "output_type": "execute_result"
    }
   ],
   "source": [
    "# クラスラベルを確認\n",
    "label"
   ]
  },
  {
   "cell_type": "code",
   "execution_count": 20,
   "metadata": {
    "collapsed": true
   },
   "outputs": [],
   "source": [
    "#データを変数に格納\n",
    "X_train = train['data']\n",
    "y_train = train['label']\n",
    "X_test = test['data']\n",
    "y_test = test['label']"
   ]
  },
  {
   "cell_type": "code",
   "execution_count": 21,
   "metadata": {},
   "outputs": [
    {
     "name": "stdout",
     "output_type": "stream",
     "text": [
      "2500 500\n"
     ]
    }
   ],
   "source": [
    "# サンプル数を確認\n",
    "N_train = len(X_train)  \n",
    "N_test = len(X_test)\n",
    "print(N_train, N_test)\n"
   ]
  },
  {
   "cell_type": "code",
   "execution_count": 22,
   "metadata": {},
   "outputs": [
    {
     "name": "stdout",
     "output_type": "stream",
     "text": [
      "(2500, 3, 32, 32)\n",
      "(500, 3, 32, 32)\n"
     ]
    }
   ],
   "source": [
    "# 画像サイズを確認\n",
    "# 3チャンネル × 縦32ピクセル × 横32ピクセル\n",
    "print(train['data'].shape)\n",
    "print(test['data'].shape)"
   ]
  },
  {
   "cell_type": "code",
   "execution_count": 24,
   "metadata": {
    "collapsed": true
   },
   "outputs": [],
   "source": [
    "# 正規化処理\n",
    "X_train/=255.0\n",
    "X_test/=255.0"
   ]
  },
  {
   "cell_type": "code",
   "execution_count": 25,
   "metadata": {
    "collapsed": true
   },
   "outputs": [],
   "source": [
    "# testデータのサンプルについて情報を確認する関数\n",
    "# (testデータのindex)\n",
    "def show_test_sample_info(index):\n",
    "    # (channel, height, width)を(height, width, channel)に変換\n",
    "    img = X_test[index].transpose(1,2,0)\n",
    "    \n",
    "    # 画像を出力\n",
    "    plt.imshow(img)\n",
    "    plt.show()\n",
    "    \n",
    "    # 正解ラベルを出力\n",
    "    print('class: ' + label[y_test[index]])\n",
    "    print('label: ' + str(y_test[index]))"
   ]
  },
  {
   "cell_type": "code",
   "execution_count": 29,
   "metadata": {},
   "outputs": [
    {
     "data": {
      "image/png": "[encoded data removed]",
      "text/plain": [
       "<matplotlib.figure.Figure at 0x107429748>"
      ]
     },
     "metadata": {},
     "output_type": "display_data"
    },
    {
     "name": "stdout",
     "output_type": "stream",
     "text": [
      "class: bicycle\n",
      "label: 2\n"
     ]
    }
   ],
   "source": [
    "# testデータのサンプルについて情報を確認\n",
    "# 引数のindexを変えていろいろな画像を出力してみましょう\n",
    "show_test_sample_info(290)"
   ]
  },
  {
   "cell_type": "code",
   "execution_count": 30,
   "metadata": {
    "collapsed": true
   },
   "outputs": [],
   "source": [
    "# 必要なライブラリの読み込み\n",
    "import chainer\n",
    "import chainer.functions as F\n",
    "import chainer.links as L\n",
    "from chainer import optimizers"
   ]
  },
  {
   "cell_type": "code",
   "execution_count": 31,
   "metadata": {
    "collapsed": true
   },
   "outputs": [],
   "source": [
    "# CNNの定義\n",
    "class CNN(chainer.Chain):\n",
    "    def __init__(self):\n",
    "        super().__init__()\n",
    "        with self.init_scope():\n",
    "            self.conv1 = L.Convolution2D(in_channels=3, out_channels=64, ksize=4, stride=1, pad=2)\n",
    "            self.conv2 = L.Convolution2D(in_channels=64, out_channels=128, ksize=4, stride=1, pad=2)\n",
    "            self.conv3 = L.Convolution2D(in_channels=None, out_channels=128, ksize=4, stride=1, pad=2) # in_channelをNoneで省略\n",
    "            self.fc4 = L.Linear(None, 512)\n",
    "            self.fc5 = L.Linear(None, 5) # out_channelはクラス数と同じ5に設定\n",
    "        \n",
    "        \n",
    "    def __call__(self, X):\n",
    "        h = F.relu(F.max_pooling_2d(self.conv1(X), ksize=2)) # conv1の畳み込みのあとにMaxPoolingを実行\n",
    "        h = F.relu(F.max_pooling_2d(self.conv2(h), ksize=2)) # conv2の畳み込みのあとにMaxPpoolingを実行\n",
    "        h = F.relu(F.max_pooling_2d(self.conv3(h), ksize=2)) # conv3の畳み込みのあとにMaxPoolingを実行\n",
    "        h = F.relu(self.fc4(h))\n",
    "        return self.fc5(h)"
   ]
  },
  {
   "cell_type": "code",
   "execution_count": 32,
   "metadata": {
    "collapsed": true
   },
   "outputs": [],
   "source": [
    "# 必要なライブラリを読み込み\n",
    "from chainer.datasets import tuple_dataset\n",
    "from chainer.training import extensions\n",
    "from chainer import optimizers, serializers, training, iterators"
   ]
  },
  {
   "cell_type": "code",
   "execution_count": 33,
   "metadata": {
    "collapsed": true
   },
   "outputs": [],
   "source": [
    "# 分類器インスタンスの生成\n",
    "model = L.Classifier(CNN())\n",
    "\n",
    "# optimizerの生成\n",
    "optimizer = chainer.optimizers.SGD() # 今回はSGDを採用\n",
    "optimizer.setup(model)               # モデルの構造を読み込ませる\n",
    "\n",
    "# ミニバッチに含まれるサンプル数を指定\n",
    "batchsize = 100\n",
    "\n",
    "# epoch数を指定\n",
    "n_epoch = 100"
   ]
  },
  {
   "cell_type": "code",
   "execution_count": 34,
   "metadata": {
    "collapsed": true
   },
   "outputs": [],
   "source": [
    "# trainerを定義\n",
    "train = tuple_dataset.TupleDataset(X_train,y_train)\n",
    "train_iter = iterators.SerialIterator(train,batch_size=batchsize,shuffle=True)\n",
    "updater = training.StandardUpdater(train_iter,optimizer)\n",
    "trainer = training.Trainer(updater,(n_epoch,'epoch'),out = 'result')"
   ]
  },
  {
   "cell_type": "code",
   "execution_count": 35,
   "metadata": {
    "collapsed": true
   },
   "outputs": [],
   "source": [
    "# Extensionsを利用してtrainerの機能を拡張\n",
    "test = tuple_dataset.TupleDataset(X_test,y_test)\n",
    "test_iter = iterators.SerialIterator(test,batch_size=batchsize,shuffle=False,repeat=False)\n",
    "trainer.extend(extensions.Evaluator(test_iter, model))\n",
    "trainer.extend(extensions.LogReport())\n",
    "trainer.extend(extensions.PrintReport(['epoch', 'main/accuracy', 'main/loss', 'validation/main/accuracy', 'validation/main/loss']))\n",
    "trainer.extend(extensions.ProgressBar())\n",
    "trainer.extend(extensions.PlotReport(['main/accuracy', 'validation/main/accuracy'],\n",
    "                          'epoch', file_name='accuracy.png'))\n",
    "trainer.extend(extensions.PlotReport(['main/loss', 'validation/main/loss'],\n",
    "                          'epoch', file_name='loss.png'))"
   ]
  },
  {
   "cell_type": "code",
   "execution_count": 36,
   "metadata": {
    "scrolled": false
   },
   "outputs": [
    {
     "name": "stdout",
     "output_type": "stream",
     "text": [
      "epoch       main/accuracy  main/loss   validation/main/accuracy  validation/main/loss\n",
      "\u001b[J1           0.1924         1.60948     0.282                     1.60932               \n",
      "\u001b[J2           0.2228         1.60934     0.298                     1.60919               \n",
      "\u001b[J3           0.2572         1.60923     0.344                     1.60911               \n",
      "\u001b[J4           0.2652         1.60913     0.28                      1.60905               \n",
      "\u001b[J     total [##................................................]  4.00%\n",
      "this epoch [..................................................]  0.00%\n",
      "       100 iter, 4 epoch / 100 epochs\n",
      "       inf iters/sec. Estimated time to finish: 0:00:00.\n",
      "\u001b[4A\u001b[J5           0.262          1.60912     0.28                      1.60901               \n",
      "\u001b[J6           0.2448         1.60908     0.342                     1.60896               \n",
      "\u001b[J7           0.2772         1.60903     0.362                     1.60892               \n",
      "\u001b[J8           0.2836         1.609       0.344                     1.60889               \n",
      "\u001b[J     total [####..............................................]  8.00%\n",
      "this epoch [..................................................]  0.00%\n",
      "       200 iter, 8 epoch / 100 epochs\n",
      "   0.28098 iters/sec. Estimated time to finish: 2:16:25.717451.\n",
      "\u001b[4A\u001b[J9           0.2768         1.60895     0.396                     1.60887               \n",
      "\u001b[J10          0.2944         1.60894     0.38                      1.60884               \n",
      "\u001b[J11          0.2984         1.60891     0.32                      1.60882               \n",
      "\u001b[J12          0.3012         1.60888     0.34                      1.6088                \n",
      "\u001b[J     total [######............................................] 12.00%\n",
      "this epoch [..................................................]  0.00%\n",
      "       300 iter, 12 epoch / 100 epochs\n",
      "   0.29231 iters/sec. Estimated time to finish: 2:05:26.158715.\n",
      "\u001b[4A\u001b[J13          0.2928         1.60888     0.32                      1.60878               \n",
      "\u001b[J14          0.302          1.60884     0.316                     1.60876               \n",
      "\u001b[J15          0.2944         1.60885     0.322                     1.60874               \n",
      "\u001b[J16          0.284          1.60883     0.294                     1.60871               \n",
      "\u001b[J     total [########..........................................] 16.00%\n",
      "this epoch [..................................................]  0.00%\n",
      "       400 iter, 16 epoch / 100 epochs\n",
      "   0.29713 iters/sec. Estimated time to finish: 1:57:47.593154.\n",
      "\u001b[4A\u001b[J17          0.2964         1.60879     0.322                     1.60869               \n",
      "\u001b[J18          0.2732         1.60878     0.286                     1.60867               \n",
      "\u001b[J19          0.2868         1.60875     0.344                     1.60866               \n",
      "\u001b[J20          0.308          1.60874     0.31                      1.60864               \n",
      "\u001b[J     total [##########........................................] 20.00%\n",
      "this epoch [..................................................]  0.00%\n",
      "       500 iter, 20 epoch / 100 epochs\n",
      "   0.29905 iters/sec. Estimated time to finish: 1:51:27.953024.\n",
      "\u001b[4A\u001b[J21          0.306          1.60871     0.316                     1.60863               \n",
      "\u001b[J22          0.3128         1.60868     0.344                     1.60861               \n",
      "\u001b[J23          0.2788         1.60869     0.352                     1.60861               \n",
      "\u001b[J24          0.2768         1.60868     0.26                      1.6086                \n",
      "\u001b[J     total [############......................................] 24.00%\n",
      "this epoch [..................................................]  0.00%\n",
      "       600 iter, 24 epoch / 100 epochs\n",
      "   0.30081 iters/sec. Estimated time to finish: 1:45:16.243560.\n",
      "\u001b[4A\u001b[J25          0.2948         1.60866     0.328                     1.60857               \n",
      "\u001b[J26          0.2724         1.60864     0.354                     1.60856               \n",
      "\u001b[J27          0.2956         1.60865     0.284                     1.60855               \n",
      "\u001b[J28          0.2864         1.60864     0.33                      1.60853               \n",
      "\u001b[J     total [##############....................................] 28.00%\n",
      "this epoch [..................................................]  0.00%\n",
      "       700 iter, 28 epoch / 100 epochs\n",
      "   0.30105 iters/sec. Estimated time to finish: 1:39:39.168689.\n",
      "\u001b[4A\u001b[J29          0.3096         1.6086      0.38                      1.60851               \n",
      "\u001b[J30          0.2856         1.60861     0.308                     1.60851               \n",
      "\u001b[J31          0.3064         1.6086      0.338                     1.60849               \n",
      "\u001b[J32          0.292          1.60861     0.3                       1.60848               \n",
      "\u001b[J     total [################..................................] 32.00%\n",
      "this epoch [..................................................]  0.00%\n",
      "       800 iter, 32 epoch / 100 epochs\n",
      "   0.30127 iters/sec. Estimated time to finish: 1:34:02.775007.\n",
      "\u001b[4A\u001b[J33          0.3012         1.60857     0.33                      1.60847               \n",
      "\u001b[J34          0.2776         1.60855     0.328                     1.60845               \n",
      "\u001b[J35          0.2896         1.60851     0.348                     1.60845               \n",
      "\u001b[J36          0.288          1.60853     0.344                     1.60843               \n",
      "\u001b[J     total [##################................................] 36.00%\n",
      "this epoch [..................................................]  0.00%\n",
      "       900 iter, 36 epoch / 100 epochs\n",
      "   0.30149 iters/sec. Estimated time to finish: 1:28:27.022860.\n",
      "\u001b[4A\u001b[J37          0.2956         1.60851     0.368                     1.60841               \n",
      "\u001b[J38          0.274          1.6085      0.348                     1.60841               \n",
      "\u001b[J39          0.3048         1.6085      0.298                     1.6084                \n",
      "\u001b[J40          0.2996         1.60848     0.37                      1.60838               \n",
      "\u001b[J     total [####################..............................] 40.00%\n",
      "this epoch [..................................................]  0.00%\n",
      "      1000 iter, 40 epoch / 100 epochs\n",
      "   0.30286 iters/sec. Estimated time to finish: 1:22:32.729670.\n",
      "\u001b[4A\u001b[J41          0.312          1.60846     0.376                     1.60837               \n",
      "\u001b[J42          0.2992         1.60844     0.326                     1.60836               \n",
      "\u001b[J43          0.3008         1.60843     0.348                     1.60834               \n",
      "\u001b[J44          0.3184         1.60841     0.364                     1.60832               \n",
      "\u001b[J     total [######################............................] 44.00%\n",
      "this epoch [..................................................]  0.00%\n",
      "      1100 iter, 44 epoch / 100 epochs\n",
      "   0.30436 iters/sec. Estimated time to finish: 1:16:39.773004.\n",
      "\u001b[4A\u001b[J45          0.292          1.60841     0.374                     1.60831               \n",
      "\u001b[J46          0.2796         1.60837     0.358                     1.60831               \n",
      "\u001b[J47          0.32           1.6084      0.356                     1.60828               \n",
      "\u001b[J48          0.2916         1.60837     0.296                     1.60827               \n",
      "\u001b[J     total [########################..........................] 48.00%\n",
      "this epoch [..................................................]  0.00%\n",
      "      1200 iter, 48 epoch / 100 epochs\n",
      "   0.30547 iters/sec. Estimated time to finish: 1:10:55.694683.\n",
      "\u001b[4A\u001b[J49          0.3008         1.60834     0.282                     1.60826               \n",
      "\u001b[J50          0.2976         1.60832     0.322                     1.60824               \n",
      "\u001b[J51          0.2988         1.60834     0.326                     1.60822               \n",
      "\u001b[J52          0.2916         1.60829     0.354                     1.60821               \n",
      "\u001b[J     total [##########################........................] 52.00%\n",
      "this epoch [..................................................]  0.00%\n",
      "      1300 iter, 52 epoch / 100 epochs\n",
      "   0.30639 iters/sec. Estimated time to finish: 1:05:16.640307.\n",
      "\u001b[4A\u001b[J53          0.3084         1.60827     0.334                     1.60819               \n",
      "\u001b[J54          0.3068         1.60826     0.282                     1.60818               \n"
     ]
    },
    {
     "name": "stdout",
     "output_type": "stream",
     "text": [
      "\u001b[J55          0.2764         1.60827     0.358                     1.60815               \n",
      "\u001b[J56          0.274          1.60825     0.338                     1.60816               \n",
      "\u001b[J     total [############################......................] 56.00%\n",
      "this epoch [..................................................]  0.00%\n",
      "      1400 iter, 56 epoch / 100 epochs\n",
      "   0.30759 iters/sec. Estimated time to finish: 0:59:36.139990.\n",
      "\u001b[4A\u001b[J57          0.3132         1.60824     0.338                     1.60811               \n",
      "\u001b[J58          0.294          1.60818     0.276                     1.60812               \n",
      "\u001b[J59          0.2944         1.60817     0.282                     1.60808               \n",
      "\u001b[J60          0.3212         1.60817     0.29                      1.60805               \n",
      "\u001b[J     total [##############################....................] 60.00%\n",
      "this epoch [..................................................]  0.00%\n",
      "      1500 iter, 60 epoch / 100 epochs\n",
      "   0.30886 iters/sec. Estimated time to finish: 0:53:57.729303.\n",
      "\u001b[4A\u001b[J61          0.2972         1.60813     0.36                      1.60803               \n",
      "\u001b[J62          0.306          1.60814     0.334                     1.60801               \n",
      "\u001b[J63          0.2748         1.60809     0.318                     1.60804               \n",
      "\u001b[J64          0.3124         1.60807     0.33                      1.60798               \n",
      "\u001b[J     total [################################..................] 64.00%\n",
      "this epoch [..................................................]  0.00%\n",
      "      1600 iter, 64 epoch / 100 epochs\n",
      "   0.30997 iters/sec. Estimated time to finish: 0:48:23.523871.\n",
      "\u001b[4A\u001b[J65          0.2972         1.60805     0.304                     1.60796               \n",
      "\u001b[J66          0.2992         1.60804     0.306                     1.60794               \n",
      "\u001b[J67          0.2996         1.60804     0.344                     1.60791               \n",
      "\u001b[J68          0.316          1.60799     0.302                     1.60789               \n",
      "\u001b[J     total [##################################................] 68.00%\n",
      "this epoch [..................................................]  0.00%\n",
      "      1700 iter, 68 epoch / 100 epochs\n",
      "   0.31073 iters/sec. Estimated time to finish: 0:42:54.620901.\n",
      "\u001b[4A\u001b[J69          0.3036         1.60794     0.354                     1.60788               \n",
      "\u001b[J70          0.3004         1.60794     0.352                     1.60787               \n",
      "\u001b[J71          0.2848         1.60794     0.326                     1.60786               \n",
      "\u001b[J72          0.314          1.60794     0.316                     1.60781               \n",
      "\u001b[J     total [####################################..............] 72.00%\n",
      "this epoch [..................................................]  0.00%\n",
      "      1800 iter, 72 epoch / 100 epochs\n",
      "   0.31119 iters/sec. Estimated time to finish: 0:37:29.444683.\n",
      "\u001b[4A\u001b[J73          0.294          1.60789     0.332                     1.60781               \n",
      "\u001b[J74          0.292          1.60787     0.34                      1.60777               \n",
      "\u001b[J75          0.2892         1.60785     0.33                      1.60782               \n",
      "\u001b[J76          0.3172         1.60783     0.306                     1.60776               \n",
      "\u001b[J     total [######################################............] 76.00%\n",
      "this epoch [..................................................]  0.00%\n",
      "      1900 iter, 76 epoch / 100 epochs\n",
      "   0.31172 iters/sec. Estimated time to finish: 0:32:04.826113.\n",
      "\u001b[4A\u001b[J77          0.3028         1.60783     0.316                     1.60771               \n",
      "\u001b[J78          0.3144         1.60779     0.326                     1.60769               \n",
      "\u001b[J79          0.302          1.60779     0.314                     1.60766               \n",
      "\u001b[J80          0.3216         1.60776     0.264                     1.60768               \n",
      "\u001b[J     total [########################################..........] 80.00%\n",
      "this epoch [..................................................]  0.00%\n",
      "      2000 iter, 80 epoch / 100 epochs\n",
      "   0.31206 iters/sec. Estimated time to finish: 0:26:42.236750.\n",
      "\u001b[4A\u001b[J81          0.2948         1.60774     0.326                     1.60762               \n",
      "\u001b[J82          0.296          1.6077      0.322                     1.6076                \n",
      "\u001b[J83          0.3164         1.60768     0.31                      1.60758               \n",
      "\u001b[J84          0.2828         1.60765     0.33                      1.60759               \n",
      "\u001b[J     total [##########################################........] 84.00%\n",
      "this epoch [..................................................]  0.00%\n",
      "      2100 iter, 84 epoch / 100 epochs\n",
      "   0.31246 iters/sec. Estimated time to finish: 0:21:20.155811.\n",
      "\u001b[4A\u001b[J85          0.3088         1.60764     0.302                     1.60754               \n",
      "\u001b[J86          0.294          1.60763     0.332                     1.60751               \n",
      "\u001b[J87          0.3096         1.6076      0.286                     1.60751               \n",
      "\u001b[J88          0.2984         1.60758     0.264                     1.6075                \n",
      "\u001b[J     total [############################################......] 88.00%\n",
      "this epoch [..................................................]  0.00%\n",
      "      2200 iter, 88 epoch / 100 epochs\n",
      "    0.3129 iters/sec. Estimated time to finish: 0:15:58.787051.\n",
      "\u001b[4A\u001b[J89          0.2876         1.60761     0.304                     1.60744               \n",
      "\u001b[J90          0.2888         1.60753     0.38                      1.60742               \n",
      "\u001b[J91          0.2952         1.60755     0.368                     1.6074                \n",
      "\u001b[J92          0.316          1.60749     0.294                     1.60738               \n",
      "\u001b[J     total [##############################################....] 92.00%\n",
      "this epoch [..................................................]  0.00%\n",
      "      2300 iter, 92 epoch / 100 epochs\n",
      "   0.31291 iters/sec. Estimated time to finish: 0:10:39.165329.\n",
      "\u001b[4A\u001b[J93          0.3072         1.60741     0.294                     1.60736               \n",
      "\u001b[J94          0.2972         1.60745     0.344                     1.60732               \n",
      "\u001b[J95          0.3028         1.60741     0.342                     1.60729               \n",
      "\u001b[J96          0.31           1.60738     0.354                     1.60727               \n",
      "\u001b[J     total [################################################..] 96.00%\n",
      "this epoch [..................................................]  0.00%\n",
      "      2400 iter, 96 epoch / 100 epochs\n",
      "   0.31336 iters/sec. Estimated time to finish: 0:05:19.123464.\n",
      "\u001b[4A\u001b[J97          0.3044         1.60734     0.338                     1.60724               \n",
      "\u001b[J98          0.3168         1.60733     0.326                     1.60721               \n",
      "\u001b[J99          0.3144         1.60725     0.28                      1.6072                \n",
      "\u001b[J100         0.2876         1.60727     0.292                     1.60716               \n",
      "\u001b[J     total [##################################################] 100.00%\n",
      "this epoch [..................................................]  0.00%\n",
      "      2500 iter, 100 epoch / 100 epochs\n",
      "   0.31383 iters/sec. Estimated time to finish: 0:00:00.\n",
      "\u001b[4A\u001b[J"
     ]
    }
   ],
   "source": [
    "# 学習を実行\n",
    "trainer.run()"
   ]
  },
  {
   "cell_type": "code",
   "execution_count": 3,
   "metadata": {
    "collapsed": true
   },
   "outputs": [],
   "source": [
    "# モデルを利用して予測をする関数を定義\n",
    "def predict(model, X):\n",
    "    if len(X.shape) == 3:  # データ数が1の場合は、バッチサイズ分の次元を追加\n",
    "        pred = model.predictor(X[None, ...]).data.argmax()\n",
    "    else:  # データ数が2以上の場合はそのまま\n",
    "        pred = model.predictor(X).data.argmax(axis=1)\n",
    "    return pred"
   ]
  },
  {
   "cell_type": "code",
   "execution_count": 4,
   "metadata": {},
   "outputs": [
    {
     "ename": "NameError",
     "evalue": "name 'y_test' is not defined",
     "output_type": "error",
     "traceback": [
      "\u001b[0;31m---------------------------------------------------------------------------\u001b[0m",
      "\u001b[0;31mNameError\u001b[0m                                 Traceback (most recent call last)",
      "\u001b[0;32m<ipython-input-4-ebad57a12358>\u001b[0m in \u001b[0;36m<module>\u001b[0;34m()\u001b[0m\n\u001b[1;32m      1\u001b[0m \u001b[0;31m# 性能指標を確認\u001b[0m\u001b[0;34m\u001b[0m\u001b[0;34m\u001b[0m\u001b[0m\n\u001b[1;32m      2\u001b[0m \u001b[0;32mfrom\u001b[0m \u001b[0msklearn\u001b[0m \u001b[0;32mimport\u001b[0m \u001b[0mmetrics\u001b[0m\u001b[0;34m\u001b[0m\u001b[0m\n\u001b[0;32m----> 3\u001b[0;31m \u001b[0mprint\u001b[0m\u001b[0;34m(\u001b[0m\u001b[0;34m'accuracy: %.3f'\u001b[0m \u001b[0;34m%\u001b[0m \u001b[0mmetrics\u001b[0m\u001b[0;34m.\u001b[0m\u001b[0maccuracy_score\u001b[0m\u001b[0;34m(\u001b[0m\u001b[0my_test\u001b[0m\u001b[0;34m,\u001b[0m \u001b[0mpredict\u001b[0m\u001b[0;34m(\u001b[0m\u001b[0mmodel\u001b[0m\u001b[0;34m,\u001b[0m \u001b[0mX_test\u001b[0m\u001b[0;34m)\u001b[0m\u001b[0;34m)\u001b[0m\u001b[0;34m)\u001b[0m\u001b[0;34m\u001b[0m\u001b[0m\n\u001b[0m\u001b[1;32m      4\u001b[0m \u001b[0mprint\u001b[0m\u001b[0;34m(\u001b[0m\u001b[0;34m'recall: %.3f'\u001b[0m \u001b[0;34m%\u001b[0m \u001b[0mmetrics\u001b[0m\u001b[0;34m.\u001b[0m\u001b[0mrecall_score\u001b[0m\u001b[0;34m(\u001b[0m\u001b[0my_test\u001b[0m\u001b[0;34m,\u001b[0m \u001b[0mpredict\u001b[0m\u001b[0;34m(\u001b[0m\u001b[0mmodel\u001b[0m\u001b[0;34m,\u001b[0m \u001b[0mX_test\u001b[0m\u001b[0;34m)\u001b[0m\u001b[0;34m,\u001b[0m \u001b[0maverage\u001b[0m\u001b[0;34m=\u001b[0m\u001b[0;34m'macro'\u001b[0m\u001b[0;34m)\u001b[0m\u001b[0;34m)\u001b[0m\u001b[0;34m\u001b[0m\u001b[0m\n\u001b[1;32m      5\u001b[0m \u001b[0mprint\u001b[0m\u001b[0;34m(\u001b[0m\u001b[0;34m'precision: %.3f'\u001b[0m \u001b[0;34m%\u001b[0m \u001b[0mmetrics\u001b[0m\u001b[0;34m.\u001b[0m\u001b[0mprecision_score\u001b[0m\u001b[0;34m(\u001b[0m\u001b[0my_test\u001b[0m\u001b[0;34m,\u001b[0m \u001b[0mpredict\u001b[0m\u001b[0;34m(\u001b[0m\u001b[0mmodel\u001b[0m\u001b[0;34m,\u001b[0m \u001b[0mX_test\u001b[0m\u001b[0;34m)\u001b[0m\u001b[0;34m,\u001b[0m \u001b[0maverage\u001b[0m\u001b[0;34m=\u001b[0m\u001b[0;34m'macro'\u001b[0m\u001b[0;34m)\u001b[0m\u001b[0;34m)\u001b[0m\u001b[0;34m\u001b[0m\u001b[0m\n",
      "\u001b[0;31mNameError\u001b[0m: name 'y_test' is not defined"
     ]
    }
   ],
   "source": [
    "# 性能指標を確認\n",
    "from sklearn import metrics\n",
    "print('accuracy: %.3f' % metrics.accuracy_score(y_test, predict(model, X_test)))\n",
    "print('recall: %.3f' % metrics.recall_score(y_test, predict(model, X_test), average='macro'))\n",
    "print('precision: %.3f' % metrics.precision_score(y_test, predict(model, X_test), average='macro'))\n",
    "print('f1_score: %.3f' % metrics.f1_score(y_test, predict(model, X_test), average='macro'))"
   ]
  },
  {
   "cell_type": "code",
   "execution_count": null,
   "metadata": {
    "collapsed": true
   },
   "outputs": [],
   "source": [
    "# PlotReportによるグラフを出力する関数\n",
    "from pylab import box\n",
    "def show_graph(src):\n",
    "    img =  plt.imread(src)\n",
    "    xpixels, ypixels = img.shape[0],img.shape[1]\n",
    "    dpi = 100\n",
    "    margin = 0.01\n",
    "    figsize = (1 + margin) * ypixels / dpi, (1 + margin) * xpixels / dpi\n",
    "\n",
    "    fig = plt.figure(figsize=figsize, dpi=dpi)\n",
    "    ax = fig.add_axes([margin, margin, 1 - 2*margin, 1 - 2*margin])\n",
    "    ax.tick_params(labelbottom=\"off\",bottom=\"off\")\n",
    "    ax.tick_params(labelleft=\"off\",left=\"off\")\n",
    "\n",
    "    ax.imshow(img, interpolation='none')\n",
    "    box(\"off\")\n",
    "    plt.show()"
   ]
  },
  {
   "cell_type": "code",
   "execution_count": null,
   "metadata": {
    "collapsed": true
   },
   "outputs": [],
   "source": [
    "# 精度と誤差をグラフ描画\n",
    "show_graph('result/loss.png')\n",
    "show_graph('result/accuracy.png')"
   ]
  },
  {
   "cell_type": "code",
   "execution_count": null,
   "metadata": {
    "collapsed": true
   },
   "outputs": [],
   "source": [
    "# indexを指定\n",
    "index = 1\n",
    "\n",
    "# 画像を出力\n",
    "show_test_sample_info(index)\n",
    "\n",
    "# 指定のindexが与えられたtestデータについて確認\n",
    "pred = predict(model, X_test[index])\n",
    "print('predict: {}'.format(pred))\n",
    "\n",
    "# 正解か不正解かを出力\n",
    "if pred == y_test[index]:\n",
    "    print('正解です｡')\n",
    "else:\n",
    "    print('間違いです｡')"
   ]
  },
  {
   "cell_type": "code",
   "execution_count": null,
   "metadata": {
    "collapsed": true
   },
   "outputs": [],
   "source": [
    "from sklearn.metrics import confusion_matrix as cm\n",
    "\n",
    "# 混同行列きれいに出力する関数\n",
    "def plot_cm(y_true, y_pred):\n",
    "    confmat = cm(y_true, y_pred)\n",
    "    fig, ax = plt.subplots(figsize=(5, 5))\n",
    "    ax.matshow(confmat, cmap=plt.cm.Blues, alpha=0.3)\n",
    "    for i in range(confmat.shape[0]):\n",
    "        for j in range(confmat.shape[1]):\n",
    "            ax.text(x=j, y=i, s=confmat[i, j], va='center', ha='center')\n",
    "    plt.xticks(np.arange(0, 5, 1))                               # x軸の目盛りを指定\n",
    "    plt.yticks(np.arange(0, 5, 1))  \n",
    "    plt.xlabel('true label')\n",
    "    plt.ylabel('predicted label')\n",
    "    plt.show()\n",
    "    \n",
    "# 混同行列を出力\n",
    "result = predict(model, X_test)\n",
    "plot_cm(result, y_test)"
   ]
  },
  {
   "cell_type": "code",
   "execution_count": null,
   "metadata": {
    "collapsed": true
   },
   "outputs": [],
   "source": [
    "class Alex(chainer.Chain):\n",
    "\n",
    "    \"\"\"Single-GPU AlexNet without partition toward the channel axis.\"\"\"\n",
    "\n",
    "    insize = 227\n",
    "\n",
    "    def __init__(self):\n",
    "        super(Alex, self).__init__()\n",
    "        with self.init_scope():\n",
    "            self.conv1 = L.Convolution2D(None,  96, 11, stride=4)\n",
    "            self.conv2 = L.Convolution2D(None, 256,  5, pad=2)\n",
    "            self.conv3 = L.Convolution2D(None, 384,  3, pad=1)\n",
    "            self.conv4 = L.Convolution2D(None, 384,  3, pad=1)\n",
    "            self.conv5 = L.Convolution2D(None, 256,  3, pad=1)\n",
    "            self.fc6 = L.Linear(None, 4096)\n",
    "            self.fc7 = L.Linear(None, 4096)\n",
    "            self.fc8 = L.Linear(None, 1000)\n",
    "\n",
    "    def __call__(self, x, t):\n",
    "        h = F.max_pooling_2d(F.local_response_normalization(\n",
    "            F.relu(self.conv1(x))), 3, stride=2)\n",
    "        h = F.max_pooling_2d(F.local_response_normalization(\n",
    "            F.relu(self.conv2(h))), 3, stride=2)\n",
    "        h = F.relu(self.conv3(h))\n",
    "        h = F.relu(self.conv4(h))\n",
    "        h = F.max_pooling_2d(F.relu(self.conv5(h)), 3, stride=2)\n",
    "        h = F.dropout(F.relu(self.fc6(h)))\n",
    "        h = F.dropout(F.relu(self.fc7(h)))\n",
    "        h = self.fc8(h)\n",
    "\n",
    "        loss = F.softmax_cross_entropy(h, t)\n",
    "        chainer.report({'loss': loss, 'accuracy': F.accuracy(h, t)}, self)\n",
    "        return loss"
   ]
  },
  {
   "cell_type": "code",
   "execution_count": null,
   "metadata": {
    "collapsed": true
   },
   "outputs": [],
   "source": [
    "class GoogLeNet(chainer.Chain):\n",
    "\n",
    "    insize = 224\n",
    "\n",
    "    def __init__(self):\n",
    "        super(GoogLeNet, self).__init__(\n",
    "            conv1=L.Convolution2D(3,  64, 7, stride=2, pad=3),\n",
    "            conv2_reduce=L.Convolution2D(64,  64, 1),\n",
    "            conv2=L.Convolution2D(64, 192, 3, stride=1, pad=1),\n",
    "            inc3a=L.Inception(192,  64,  96, 128, 16,  32,  32),\n",
    "            inc3b=L.Inception(256, 128, 128, 192, 32,  96,  64),\n",
    "            inc4a=L.Inception(480, 192,  96, 208, 16,  48,  64),\n",
    "            inc4b=L.Inception(512, 160, 112, 224, 24,  64,  64),\n",
    "            inc4c=L.Inception(512, 128, 128, 256, 24,  64,  64),\n",
    "            inc4d=L.Inception(512, 112, 144, 288, 32,  64,  64),\n",
    "            inc4e=L.Inception(528, 256, 160, 320, 32, 128, 128),\n",
    "            inc5a=L.Inception(832, 256, 160, 320, 32, 128, 128),\n",
    "            inc5b=L.Inception(832, 384, 192, 384, 48, 128, 128),\n",
    "            loss3_fc=L.Linear(1024, 1000),\n",
    "\n",
    "            loss1_conv=L.Convolution2D(512, 128, 1),\n",
    "            loss1_fc1=L.Linear(2048, 1024),\n",
    "            loss1_fc2=L.Linear(1024, 1000),\n",
    "\n",
    "            loss2_conv=L.Convolution2D(528, 128, 1),\n",
    "            loss2_fc1=L.Linear(2048, 1024),\n",
    "            loss2_fc2=L.Linear(1024, 1000)\n",
    "        )\n",
    "        self.train = True\n",
    "\n",
    "    def __call__(self, x):\n",
    "        h = F.relu(self.conv1(x))\n",
    "        h = F.local_response_normalization(\n",
    "            F.max_pooling_2d(h, 3, stride=2), n=5, k=1, alpha=2e-05)\n",
    "        h = F.relu(self.conv2_reduce(h))\n",
    "        h = F.relu(self.conv2(h))\n",
    "        h = F.max_pooling_2d(\n",
    "            F.local_response_normalization(h, n=5, k=1, alpha=2e-05), 3, stride=2)\n",
    "\n",
    "        h = self.inc3a(h)\n",
    "        h = self.inc3b(h)\n",
    "        h = F.max_pooling_2d(h, 3, stride=2)\n",
    "        h = self.inc4a(h)\n",
    "\n",
    "        l = F.average_pooling_2d(h, 5, stride=3)\n",
    "        l = F.relu(self.loss1_conv(l))\n",
    "        l = F.relu(self.loss1_fc1(l))\n",
    "        l = self.loss1_fc2(l)\n",
    "\n",
    "        h = self.inc4b(h)\n",
    "        h = self.inc4c(h)\n",
    "        h = self.inc4d(h)\n",
    "\n",
    "        l = F.average_pooling_2d(h, 5, stride=3)\n",
    "        l = F.relu(self.loss2_conv(l))\n",
    "        l = F.relu(self.loss2_fc1(l))\n",
    "        l = self.loss2_fc2(l)\n",
    "\n",
    "        h = self.inc4e(h)\n",
    "        h = F.max_pooling_2d(h, 3, stride=2)\n",
    "        h = self.inc5a(h)\n",
    "        h = self.inc5b(h)\n",
    "\n",
    "        h = F.average_pooling_2d(h, 7, stride=1)\n",
    "        y = self.loss3_fc(F.dropout(h, 0.4, train=self.train))\n",
    "\n",
    "        return y"
   ]
  },
  {
   "cell_type": "code",
   "execution_count": null,
   "metadata": {
    "collapsed": true
   },
   "outputs": [],
   "source": [
    "class VGGNet(chainer.Chain):\n",
    "\n",
    "    \"\"\"\n",
    "    VGGNet\n",
    "    - It takes (224, 224, 3) sized image as imput\n",
    "    \"\"\"\n",
    "\n",
    "    def __init__(self):\n",
    "        super(VGGNet, self).__init__(\n",
    "            conv1_1=L.Convolution2D(3, 64, 3, stride=1, pad=1),\n",
    "            conv1_2=L.Convolution2D(64, 64, 3, stride=1, pad=1),\n",
    "\n",
    "            conv2_1=L.Convolution2D(64, 128, 3, stride=1, pad=1),\n",
    "            conv2_2=L.Convolution2D(128, 128, 3, stride=1, pad=1),\n",
    "\n",
    "            conv3_1=L.Convolution2D(128, 256, 3, stride=1, pad=1),\n",
    "            conv3_2=L.Convolution2D(256, 256, 3, stride=1, pad=1),\n",
    "            conv3_3=L.Convolution2D(256, 256, 3, stride=1, pad=1),\n",
    "\n",
    "            conv4_1=L.Convolution2D(256, 512, 3, stride=1, pad=1),\n",
    "            conv4_2=L.Convolution2D(512, 512, 3, stride=1, pad=1),\n",
    "            conv4_3=L.Convolution2D(512, 512, 3, stride=1, pad=1),\n",
    "\n",
    "            conv5_1=L.Convolution2D(512, 512, 3, stride=1, pad=1),\n",
    "            conv5_2=L.Convolution2D(512, 512, 3, stride=1, pad=1),\n",
    "            conv5_3=L.Convolution2D(512, 512, 3, stride=1, pad=1),\n",
    "\n",
    "            fc6=L.Linear(25088, 4096),\n",
    "            fc7=L.Linear(4096, 4096),\n",
    "            fc8=L.Linear(4096, 1000)\n",
    "        )\n",
    "        self.train = False\n",
    "\n",
    "    def __call__(self, x, t):\n",
    "        h = F.relu(self.conv1_1(x))\n",
    "        h = F.relu(self.conv1_2(h))\n",
    "        h = F.max_pooling_2d(h, 2, stride=2)\n",
    "\n",
    "        h = F.relu(self.conv2_1(h))\n",
    "        h = F.relu(self.conv2_2(h))\n",
    "        h = F.max_pooling_2d(h, 2, stride=2)\n",
    "\n",
    "        h = F.relu(self.conv3_1(h))\n",
    "        h = F.relu(self.conv3_2(h))\n",
    "        h = F.relu(self.conv3_3(h))\n",
    "        h = F.max_pooling_2d(h, 2, stride=2)\n",
    "\n",
    "        h = F.relu(self.conv4_1(h))\n",
    "        h = F.relu(self.conv4_2(h))\n",
    "        h = F.relu(self.conv4_3(h))\n",
    "        h = F.max_pooling_2d(h, 2, stride=2)\n",
    "\n",
    "        h = F.relu(self.conv5_1(h))\n",
    "        h = F.relu(self.conv5_2(h))\n",
    "        h = F.relu(self.conv5_3(h))\n",
    "        h = F.max_pooling_2d(h, 2, stride=2)\n",
    "\n",
    "        h = F.dropout(F.relu(self.fc6(h)), train=self.train, ratio=0.5)\n",
    "        h = F.dropout(F.relu(self.fc7(h)), train=self.train, ratio=0.5)\n",
    "        h = self.fc8(h)\n",
    "\n",
    "        if self.train:\n",
    "            self.loss = F.softmax_cross_entropy(h, t)\n",
    "            self.acc = F.accuracy(h, t)\n",
    "            return self.loss\n",
    "        else:\n",
    "            self.pred = F.softmax(h)\n",
    "            return self.pred"
   ]
  },
  {
   "cell_type": "code",
   "execution_count": null,
   "metadata": {
    "collapsed": true
   },
   "outputs": [],
   "source": [
    "class BottleNeckA(chainer.Chain):\n",
    "\n",
    "    def __init__(self, in_size, ch, out_size, stride=2):\n",
    "        super(BottleNeckA, self).__init__()\n",
    "        initialW = initializers.HeNormal()\n",
    "\n",
    "        with self.init_scope():\n",
    "            self.conv1 = L.Convolution2D(\n",
    "                in_size, ch, 1, stride, 0, initialW=initialW, nobias=True)\n",
    "            self.bn1 = L.BatchNormalization(ch)\n",
    "            self.conv2 = L.Convolution2D(\n",
    "                ch, ch, 3, 1, 1, initialW=initialW, nobias=True)\n",
    "            self.bn2 = L.BatchNormalization(ch)\n",
    "            self.conv3 = L.Convolution2D(\n",
    "                ch, out_size, 1, 1, 0, initialW=initialW, nobias=True)\n",
    "            self.bn3 = L.BatchNormalization(out_size)\n",
    "\n",
    "            self.conv4 = L.Convolution2D(\n",
    "                in_size, out_size, 1, stride, 0,\n",
    "                initialW=initialW, nobias=True)\n",
    "            self.bn4 = L.BatchNormalization(out_size)\n",
    "\n",
    "    def __call__(self, x):\n",
    "        h1 = F.relu(self.bn1(self.conv1(x)))\n",
    "        h1 = F.relu(self.bn2(self.conv2(h1)))\n",
    "        h1 = self.bn3(self.conv3(h1))\n",
    "        h2 = self.bn4(self.conv4(x))\n",
    "\n",
    "        return F.relu(h1 + h2)\n",
    "\n",
    "\n",
    "class BottleNeckB(chainer.Chain):\n",
    "\n",
    "    def __init__(self, in_size, ch):\n",
    "        super(BottleNeckB, self).__init__()\n",
    "        initialW = initializers.HeNormal()\n",
    "\n",
    "        with self.init_scope():\n",
    "            self.conv1 = L.Convolution2D(\n",
    "                in_size, ch, 1, 1, 0, initialW=initialW, nobias=True)\n",
    "            self.bn1 = L.BatchNormalization(ch)\n",
    "            self.conv2 = L.Convolution2D(\n",
    "                ch, ch, 3, 1, 1, initialW=initialW, nobias=True)\n",
    "            self.bn2 = L.BatchNormalization(ch)\n",
    "            self.conv3 = L.Convolution2D(\n",
    "                ch, in_size, 1, 1, 0, initialW=initialW, nobias=True)\n",
    "            self.bn3 = L.BatchNormalization(in_size)\n",
    "\n",
    "    def __call__(self, x):\n",
    "        h = F.relu(self.bn1(self.conv1(x)))\n",
    "        h = F.relu(self.bn2(self.conv2(h)))\n",
    "        h = self.bn3(self.conv3(h))\n",
    "\n",
    "        return F.relu(h + x)\n",
    "\n",
    "\n",
    "class Block(chainer.Chain):\n",
    "\n",
    "    def __init__(self, layer, in_size, ch, out_size, stride=2):\n",
    "        super(Block, self).__init__()\n",
    "        self.add_link('a', BottleNeckA(in_size, ch, out_size, stride))\n",
    "        for i in range(1, layer):\n",
    "            self.add_link('b{}'.format(i), BottleNeckB(out_size, ch))\n",
    "        self.layer = layer\n",
    "\n",
    "    def __call__(self, x):\n",
    "        h = self.a(x)\n",
    "        for i in range(1, self.layer):\n",
    "            h = self['b{}'.format(i)](h)\n",
    "\n",
    "        return h\n",
    "\n",
    "\n",
    "class ResNet(chainer.Chain):\n",
    "\n",
    "    insize = 224\n",
    "\n",
    "    def __init__(self):\n",
    "        super(ResNet, self).__init__()\n",
    "        with self.init_scope():\n",
    "            self.conv1 = L.Convolution2D(\n",
    "                3, 64, 7, 2, 3, initialW=initializers.HeNormal(), nobias=True)\n",
    "            self.bn1 = L.BatchNormalization(64)\n",
    "            self.res2 = Block(3, 64, 64, 256, 1)\n",
    "            self.res3 = Block(8, 256, 128, 512)\n",
    "            self.res4 = Block(36, 512, 256, 1024)\n",
    "            self.res5 = Block(3, 1024, 512, 2048)\n",
    "            self.fc = L.Linear(2048, 1000)\n",
    "\n",
    "    def __call__(self, x):\n",
    "        h = self.bn1(self.conv1(x))\n",
    "        h = F.max_pooling_2d(F.relu(h), 3, stride=2)\n",
    "        h = self.res2(h)\n",
    "        h = self.res3(h)\n",
    "        h = self.res4(h)\n",
    "        h = self.res5(h)\n",
    "        h = F.average_pooling_2d(h, 7, stride=1)\n",
    "        h = self.fc(h)\n",
    "\n",
    "        return h"
   ]
  },
  {
   "cell_type": "code",
   "execution_count": null,
   "metadata": {
    "collapsed": true
   },
   "outputs": [],
   "source": []
  },
  {
   "cell_type": "code",
   "execution_count": null,
   "metadata": {
    "collapsed": true
   },
   "outputs": [],
   "source": []
  }
 ],
 "metadata": {
  "kernelspec": {
   "display_name": "Python 3",
   "language": "python",
   "name": "python3"
  },
  "language_info": {
   "codemirror_mode": {
    "name": "ipython",
    "version": 3
   },
   "file_extension": ".py",
   "mimetype": "text/x-python",
   "name": "python",
   "nbconvert_exporter": "python",
   "pygments_lexer": "ipython3",
   "version": "3.6.2"
  }
 },
 "nbformat": 4,
 "nbformat_minor": 2
}
