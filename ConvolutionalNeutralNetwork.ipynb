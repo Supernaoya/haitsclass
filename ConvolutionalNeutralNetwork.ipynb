{
 "cells": [
  {
   "cell_type": "code",
   "execution_count": 1,
   "metadata": {
    "collapsed": true
   },
   "outputs": [],
   "source": [
    "# 必要なライブラリの読み込み\n",
    "%matplotlib inline\n",
    "import matplotlib.pyplot as plt\n",
    "import numpy as np"
   ]
  },
  {
   "cell_type": "code",
   "execution_count": 2,
   "metadata": {},
   "outputs": [
    {
     "data": {
      "text/plain": [
       "('label.pickle', <http.client.HTTPMessage at 0x104d2f198>)"
      ]
     },
     "execution_count": 2,
     "metadata": {},
     "output_type": "execute_result"
    }
   ],
   "source": [
    "# データセットのダウンロード\n",
    "# 2回目以降は実行する必要はありません\n",
    "from urllib import request\n",
    "\n",
    "# trainデータのダウンロード\n",
    "url = 'https://s3-ap-northeast-1.amazonaws.com/ai-std/train.pickle'\n",
    "request.urlretrieve(url, 'train.pickle')\n",
    "\n",
    "# testデータのダウンロード\n",
    "url = 'https://s3-ap-northeast-1.amazonaws.com/ai-std/test.pickle'\n",
    "request.urlretrieve(url, 'test.pickle')\n",
    "\n",
    "# ラベルデータのダウンロード\n",
    "url = 'https://s3-ap-northeast-1.amazonaws.com/ai-std/label.pickle'\n",
    "request.urlretrieve(url, 'label.pickle')"
   ]
  },
  {
   "cell_type": "code",
   "execution_count": 3,
   "metadata": {},
   "outputs": [
    {
     "name": "stdout",
     "output_type": "stream",
     "text": [
      "保存されるオブジェクトです\n"
     ]
    }
   ],
   "source": [
    "# pickleのサンプルプログラム\n",
    "import pickle\n",
    "\n",
    "# 適当なオブジェクトを用意\n",
    "obj = '保存されるオブジェクトです'\n",
    "\n",
    "# Pythonオブジェクトをpickleファイルとして保存\n",
    "with open('sample.pickle','wb') as f:\n",
    "    pickle.dump(obj, f) # (Pythonオブジェクト, pickleファイル)\n",
    "\n",
    "# pickleファイルをPythonオブジェクトとして読込\n",
    "with open('sample.pickle','rb') as f:\n",
    "    loaded_obj = pickle.load(f)  # (pickleファイル)\n",
    "\n",
    "# 読み込んだオブジェクトを確認\n",
    "print(loaded_obj)"
   ]
  },
  {
   "cell_type": "code",
   "execution_count": 4,
   "metadata": {
    "collapsed": true
   },
   "outputs": [],
   "source": [
    "# pickle形式のファイルを読み込む関数\n",
    "# (保存されたpickleファイル)\n",
    "def unpickle(file):\n",
    "    # 保存されたpickleファイルを読み込み\n",
    "    # 'rb'は｢読み込み専用(r)｣かつ｢バイト列(b)｣を意味する\n",
    "    with open(file, 'rb') as f:\n",
    "        return pickle.load(f, encoding='bytes')"
   ]
  },
  {
   "cell_type": "code",
   "execution_count": 5,
   "metadata": {
    "collapsed": true
   },
   "outputs": [],
   "source": [
    "# データの読み込みを実行\n",
    "train = unpickle('train.pickle')\n",
    "test = unpickle('test.pickle')\n",
    "label = unpickle('label.pickle')"
   ]
  },
  {
   "cell_type": "code",
   "execution_count": 6,
   "metadata": {},
   "outputs": [
    {
     "name": "stdout",
     "output_type": "stream",
     "text": [
      "<class 'dict'>\n",
      "<class 'dict'>\n",
      "<class 'list'>\n"
     ]
    }
   ],
   "source": [
    "# trainデータの型を確認\n",
    "print(type(train))\n",
    "print(type(test))\n",
    "print(type(label))"
   ]
  },
  {
   "cell_type": "code",
   "execution_count": 13,
   "metadata": {},
   "outputs": [
    {
     "data": {
      "text/plain": [
       "['clock', 'cup', 'bicycle', 'television', 'chair']"
      ]
     },
     "execution_count": 13,
     "metadata": {},
     "output_type": "execute_result"
    }
   ],
   "source": [
    "# クラスラベルを確認\n",
    "label"
   ]
  },
  {
   "cell_type": "code",
   "execution_count": 20,
   "metadata": {
    "collapsed": true
   },
   "outputs": [],
   "source": [
    "#データを変数に格納\n",
    "X_train = train['data']\n",
    "y_train = train['label']\n",
    "X_test = test['data']\n",
    "y_test = test['label']"
   ]
  },
  {
   "cell_type": "code",
   "execution_count": 21,
   "metadata": {},
   "outputs": [
    {
     "name": "stdout",
     "output_type": "stream",
     "text": [
      "2500 500\n"
     ]
    }
   ],
   "source": [
    "# サンプル数を確認\n",
    "N_train = len(X_train)  \n",
    "N_test = len(X_test)\n",
    "print(N_train, N_test)\n"
   ]
  },
  {
   "cell_type": "code",
   "execution_count": 22,
   "metadata": {},
   "outputs": [
    {
     "name": "stdout",
     "output_type": "stream",
     "text": [
      "(2500, 3, 32, 32)\n",
      "(500, 3, 32, 32)\n"
     ]
    }
   ],
   "source": [
    "# 画像サイズを確認\n",
    "# 3チャンネル × 縦32ピクセル × 横32ピクセル\n",
    "print(train['data'].shape)\n",
    "print(test['data'].shape)"
   ]
  },
  {
   "cell_type": "code",
   "execution_count": 24,
   "metadata": {
    "collapsed": true
   },
   "outputs": [],
   "source": [
    "# 正規化処理\n",
    "X_train/=255.0\n",
    "X_test/=255.0"
   ]
  },
  {
   "cell_type": "code",
   "execution_count": 25,
   "metadata": {
    "collapsed": true
   },
   "outputs": [],
   "source": [
    "# testデータのサンプルについて情報を確認する関数\n",
    "# (testデータのindex)\n",
    "def show_test_sample_info(index):\n",
    "    # (channel, height, width)を(height, width, channel)に変換\n",
    "    img = X_test[index].transpose(1,2,0)\n",
    "    \n",
    "    # 画像を出力\n",
    "    plt.imshow(img)\n",
    "    plt.show()\n",
    "    \n",
    "    # 正解ラベルを出力\n",
    "    print('class: ' + label[y_test[index]])\n",
    "    print('label: ' + str(y_test[index]))"
   ]
  },
  {
   "cell_type": "code",
   "execution_count": 29,
   "metadata": {},
   "outputs": [
    {
     "data": {
      "image/png": "[encoded data removed]",
      "text/plain": [
       "<matplotlib.figure.Figure at 0x107429748>"
      ]
     },
     "metadata": {},
     "output_type": "display_data"
    },
    {
     "name": "stdout",
     "output_type": "stream",
     "text": [
      "class: bicycle\n",
      "label: 2\n"
     ]
    }
   ],
   "source": [
    "# testデータのサンプルについて情報を確認\n",
    "# 引数のindexを変えていろいろな画像を出力してみましょう\n",
    "show_test_sample_info(290)"
   ]
  },
  {
   "cell_type": "code",
   "execution_count": 30,
   "metadata": {
    "collapsed": true
   },
   "outputs": [],
   "source": [
    "# 必要なライブラリの読み込み\n",
    "import chainer\n",
    "import chainer.functions as F\n",
    "import chainer.links as L\n",
    "from chainer import optimizers"
   ]
  },
  {
   "cell_type": "code",
   "execution_count": 31,
   "metadata": {
    "collapsed": true
   },
   "outputs": [],
   "source": [
    "# CNNの定義\n",
    "class CNN(chainer.Chain):\n",
    "    def __init__(self):\n",
    "        super().__init__()\n",
    "        with self.init_scope():\n",
    "            self.conv1 = L.Convolution2D(in_channels=3, out_channels=64, ksize=4, stride=1, pad=2)\n",
    "            self.conv2 = L.Convolution2D(in_channels=64, out_channels=128, ksize=4, stride=1, pad=2)\n",
    "            self.conv3 = L.Convolution2D(in_channels=None, out_channels=128, ksize=4, stride=1, pad=2) # in_channelをNoneで省略\n",
    "            self.fc4 = L.Linear(None, 512)\n",
    "            self.fc5 = L.Linear(None, 5) # out_channelはクラス数と同じ5に設定\n",
    "        \n",
    "        \n",
    "    def __call__(self, X):\n",
    "        h = F.relu(F.max_pooling_2d(self.conv1(X), ksize=2)) # conv1の畳み込みのあとにMaxPoolingを実行\n",
    "        h = F.relu(F.max_pooling_2d(self.conv2(h), ksize=2)) # conv2の畳み込みのあとにMaxPpoolingを実行\n",
    "        h = F.relu(F.max_pooling_2d(self.conv3(h), ksize=2)) # conv3の畳み込みのあとにMaxPoolingを実行\n",
    "        h = F.relu(self.fc4(h))\n",
    "        return self.fc5(h)"
   ]
  },
  {
   "cell_type": "code",
   "execution_count": 32,
   "metadata": {
    "collapsed": true
   },
   "outputs": [],
   "source": [
    "# 必要なライブラリを読み込み\n",
    "from chainer.datasets import tuple_dataset\n",
    "from chainer.training import extensions\n",
    "from chainer import optimizers, serializers, training, iterators"
   ]
  },
  {
   "cell_type": "code",
   "execution_count": 33,
   "metadata": {
    "collapsed": true
   },
   "outputs": [],
   "source": [
    "# 分類器インスタンスの生成\n",
    "model = L.Classifier(CNN())\n",
    "\n",
    "# optimizerの生成\n",
    "optimizer = chainer.optimizers.SGD() # 今回はSGDを採用\n",
    "optimizer.setup(model)               # モデルの構造を読み込ませる\n",
    "\n",
    "# ミニバッチに含まれるサンプル数を指定\n",
    "batchsize = 100\n",
    "\n",
    "# epoch数を指定\n",
    "n_epoch = 100"
   ]
  },
  {
   "cell_type": "code",
   "execution_count": 34,
   "metadata": {
    "collapsed": true
   },
   "outputs": [],
   "source": [
    "# trainerを定義\n",
    "train = tuple_dataset.TupleDataset(X_train,y_train)\n",
    "train_iter = iterators.SerialIterator(train,batch_size=batchsize,shuffle=True)\n",
    "updater = training.StandardUpdater(train_iter,optimizer)\n",
    "trainer = training.Trainer(updater,(n_epoch,'epoch'),out = 'result')"
   ]
  },
  {
   "cell_type": "code",
   "execution_count": 35,
   "metadata": {
    "collapsed": true
   },
   "outputs": [],
   "source": [
    "# Extensionsを利用してtrainerの機能を拡張\n",
    "test = tuple_dataset.TupleDataset(X_test,y_test)\n",
    "test_iter = iterators.SerialIterator(test,batch_size=batchsize,shuffle=False,repeat=False)\n",
    "trainer.extend(extensions.Evaluator(test_iter, model))\n",
    "trainer.extend(extensions.LogReport())\n",
    "trainer.extend(extensions.PrintReport(['epoch', 'main/accuracy', 'main/loss', 'validation/main/accuracy', 'validation/main/loss']))\n",
    "trainer.extend(extensions.ProgressBar())\n",
    "trainer.extend(extensions.PlotReport(['main/accuracy', 'validation/main/accuracy'],\n",
    "                          'epoch', file_name='accuracy.png'))\n",
    "trainer.extend(extensions.PlotReport(['main/loss', 'validation/main/loss'],\n",
    "                          'epoch', file_name='loss.png'))"
   ]
  },
  {
   "cell_type": "code",
   "execution_count": 36,
   "metadata": {},
   "outputs": [
    {
     "name": "stdout",
     "output_type": "stream",
     "text": [
      "epoch       main/accuracy  main/loss   validation/main/accuracy  validation/main/loss\n",
      "\u001b[J1           0.1924         1.60948     0.282                     1.60932               \n",
      "\u001b[J2           0.2228         1.60934     0.298                     1.60919               \n",
      "\u001b[J3           0.2572         1.60923     0.344                     1.60911               \n",
      "\u001b[J4           0.2652         1.60913     0.28                      1.60905               \n",
      "\u001b[J     total [##................................................]  4.00%\n",
      "this epoch [..................................................]  0.00%\n",
      "       100 iter, 4 epoch / 100 epochs\n",
      "       inf iters/sec. Estimated time to finish: 0:00:00.\n",
      "\u001b[4A\u001b[J5           0.262          1.60912     0.28                      1.60901               \n",
      "\u001b[J6           0.2448         1.60908     0.342                     1.60896               \n",
      "\u001b[J7           0.2772         1.60903     0.362                     1.60892               \n",
      "\u001b[J8           0.2836         1.609       0.344                     1.60889               \n",
      "\u001b[J     total [####..............................................]  8.00%\n",
      "this epoch [..................................................]  0.00%\n",
      "       200 iter, 8 epoch / 100 epochs\n",
      "   0.28098 iters/sec. Estimated time to finish: 2:16:25.717451.\n",
      "\u001b[4A\u001b[J9           0.2768         1.60895     0.396                     1.60887               \n",
      "\u001b[J10          0.2944         1.60894     0.38                      1.60884               \n",
      "\u001b[J11          0.2984         1.60891     0.32                      1.60882               \n",
      "\u001b[J12          0.3012         1.60888     0.34                      1.6088                \n",
      "\u001b[J     total [######............................................] 12.00%\n",
      "this epoch [..................................................]  0.00%\n",
      "       300 iter, 12 epoch / 100 epochs\n",
      "   0.29231 iters/sec. Estimated time to finish: 2:05:26.158715.\n",
      "\u001b[4A\u001b[J13          0.2928         1.60888     0.32                      1.60878               \n",
      "\u001b[J14          0.302          1.60884     0.316                     1.60876               \n",
      "\u001b[J15          0.2944         1.60885     0.322                     1.60874               \n",
      "\u001b[J16          0.284          1.60883     0.294                     1.60871               \n",
      "\u001b[J     total [########..........................................] 16.00%\n",
      "this epoch [..................................................]  0.00%\n",
      "       400 iter, 16 epoch / 100 epochs\n",
      "   0.29713 iters/sec. Estimated time to finish: 1:57:47.593154.\n",
      "\u001b[4A\u001b[J17          0.2964         1.60879     0.322                     1.60869               \n",
      "\u001b[J18          0.2732         1.60878     0.286                     1.60867               \n",
      "\u001b[J19          0.2868         1.60875     0.344                     1.60866               \n",
      "\u001b[J20          0.308          1.60874     0.31                      1.60864               \n",
      "\u001b[J     total [##########........................................] 20.00%\n",
      "this epoch [..................................................]  0.00%\n",
      "       500 iter, 20 epoch / 100 epochs\n",
      "   0.29905 iters/sec. Estimated time to finish: 1:51:27.953024.\n",
      "\u001b[4A\u001b[J21          0.306          1.60871     0.316                     1.60863               \n",
      "\u001b[J22          0.3128         1.60868     0.344                     1.60861               \n",
      "\u001b[J23          0.2788         1.60869     0.352                     1.60861               \n",
      "\u001b[J24          0.2768         1.60868     0.26                      1.6086                \n",
      "\u001b[J     total [############......................................] 24.00%\n",
      "this epoch [..................................................]  0.00%\n",
      "       600 iter, 24 epoch / 100 epochs\n",
      "   0.30081 iters/sec. Estimated time to finish: 1:45:16.243560.\n",
      "\u001b[4A\u001b[J25          0.2948         1.60866     0.328                     1.60857               \n",
      "\u001b[J26          0.2724         1.60864     0.354                     1.60856               \n",
      "\u001b[J27          0.2956         1.60865     0.284                     1.60855               \n",
      "\u001b[J28          0.2864         1.60864     0.33                      1.60853               \n",
      "\u001b[J     total [##############....................................] 28.00%\n",
      "this epoch [..................................................]  0.00%\n",
      "       700 iter, 28 epoch / 100 epochs\n",
      "   0.30105 iters/sec. Estimated time to finish: 1:39:39.168689.\n",
      "\u001b[4A\u001b[J29          0.3096         1.6086      0.38                      1.60851               \n",
      "\u001b[J30          0.2856         1.60861     0.308                     1.60851               \n",
      "\u001b[J31          0.3064         1.6086      0.338                     1.60849               \n",
      "\u001b[J32          0.292          1.60861     0.3                       1.60848               \n",
      "\u001b[J     total [################..................................] 32.00%\n",
      "this epoch [..................................................]  0.00%\n",
      "       800 iter, 32 epoch / 100 epochs\n",
      "   0.30127 iters/sec. Estimated time to finish: 1:34:02.775007.\n",
      "\u001b[4A\u001b[J33          0.3012         1.60857     0.33                      1.60847               \n",
      "\u001b[J34          0.2776         1.60855     0.328                     1.60845               \n",
      "\u001b[J35          0.2896         1.60851     0.348                     1.60845               \n",
      "\u001b[J36          0.288          1.60853     0.344                     1.60843               \n",
      "\u001b[J     total [##################................................] 36.00%\n",
      "this epoch [..................................................]  0.00%\n",
      "       900 iter, 36 epoch / 100 epochs\n",
      "   0.30149 iters/sec. Estimated time to finish: 1:28:27.022860.\n",
      "\u001b[4A\u001b[J37          0.2956         1.60851     0.368                     1.60841               \n",
      "\u001b[J38          0.274          1.6085      0.348                     1.60841               \n",
      "\u001b[J39          0.3048         1.6085      0.298                     1.6084                \n",
      "\u001b[J40          0.2996         1.60848     0.37                      1.60838               \n",
      "\u001b[J     total [####################..............................] 40.00%\n",
      "this epoch [..................................................]  0.00%\n",
      "      1000 iter, 40 epoch / 100 epochs\n",
      "   0.30286 iters/sec. Estimated time to finish: 1:22:32.729670.\n",
      "\u001b[4A\u001b[J41          0.312          1.60846     0.376                     1.60837               \n",
      "\u001b[J42          0.2992         1.60844     0.326                     1.60836               \n",
      "\u001b[J43          0.3008         1.60843     0.348                     1.60834               \n",
      "\u001b[J44          0.3184         1.60841     0.364                     1.60832               \n",
      "\u001b[J     total [######################............................] 44.00%\n",
      "this epoch [..................................................]  0.00%\n",
      "      1100 iter, 44 epoch / 100 epochs\n",
      "   0.30436 iters/sec. Estimated time to finish: 1:16:39.773004.\n",
      "\u001b[4A\u001b[J45          0.292          1.60841     0.374                     1.60831               \n",
      "\u001b[J46          0.2796         1.60837     0.358                     1.60831               \n",
      "\u001b[J47          0.32           1.6084      0.356                     1.60828               \n",
      "\u001b[J48          0.2916         1.60837     0.296                     1.60827               \n",
      "\u001b[J     total [########################..........................] 48.00%\n",
      "this epoch [..................................................]  0.00%\n",
      "      1200 iter, 48 epoch / 100 epochs\n",
      "   0.30547 iters/sec. Estimated time to finish: 1:10:55.694683.\n",
      "\u001b[4A\u001b[J49          0.3008         1.60834     0.282                     1.60826               \n",
      "\u001b[J50          0.2976         1.60832     0.322                     1.60824               \n",
      "\u001b[J51          0.2988         1.60834     0.326                     1.60822               \n",
      "\u001b[J52          0.2916         1.60829     0.354                     1.60821               \n",
      "\u001b[J     total [##########################........................] 52.00%\n",
      "this epoch [..................................................]  0.00%\n",
      "      1300 iter, 52 epoch / 100 epochs\n",
      "   0.30639 iters/sec. Estimated time to finish: 1:05:16.640307.\n",
      "\u001b[4A\u001b[J53          0.3084         1.60827     0.334                     1.60819               \n",
      "\u001b[J54          0.3068         1.60826     0.282                     1.60818               \n"
     ]
    },
    {
     "name": "stdout",
     "output_type": "stream",
     "text": [
      "\u001b[J55          0.2764         1.60827     0.358                     1.60815               \n",
      "\u001b[J56          0.274          1.60825     0.338                     1.60816               \n",
      "\u001b[J     total [############################......................] 56.00%\n",
      "this epoch [..................................................]  0.00%\n",
      "      1400 iter, 56 epoch / 100 epochs\n",
      "   0.30759 iters/sec. Estimated time to finish: 0:59:36.139990.\n",
      "\u001b[4A\u001b[J57          0.3132         1.60824     0.338                     1.60811               \n",
      "\u001b[J58          0.294          1.60818     0.276                     1.60812               \n",
      "\u001b[J59          0.2944         1.60817     0.282                     1.60808               \n",
      "\u001b[J60          0.3212         1.60817     0.29                      1.60805               \n",
      "\u001b[J     total [##############################....................] 60.00%\n",
      "this epoch [..................................................]  0.00%\n",
      "      1500 iter, 60 epoch / 100 epochs\n",
      "   0.30886 iters/sec. Estimated time to finish: 0:53:57.729303.\n",
      "\u001b[4A\u001b[J61          0.2972         1.60813     0.36                      1.60803               \n",
      "\u001b[J62          0.306          1.60814     0.334                     1.60801               \n",
      "\u001b[J63          0.2748         1.60809     0.318                     1.60804               \n",
      "\u001b[J64          0.3124         1.60807     0.33                      1.60798               \n",
      "\u001b[J     total [################################..................] 64.00%\n",
      "this epoch [..................................................]  0.00%\n",
      "      1600 iter, 64 epoch / 100 epochs\n",
      "   0.30997 iters/sec. Estimated time to finish: 0:48:23.523871.\n",
      "\u001b[4A\u001b[J65          0.2972         1.60805     0.304                     1.60796               \n",
      "\u001b[J66          0.2992         1.60804     0.306                     1.60794               \n",
      "\u001b[J67          0.2996         1.60804     0.344                     1.60791               \n",
      "\u001b[J68          0.316          1.60799     0.302                     1.60789               \n",
      "\u001b[J     total [##################################................] 68.00%\n",
      "this epoch [..................................................]  0.00%\n",
      "      1700 iter, 68 epoch / 100 epochs\n",
      "   0.31073 iters/sec. Estimated time to finish: 0:42:54.620901.\n",
      "\u001b[4A\u001b[J69          0.3036         1.60794     0.354                     1.60788               \n",
      "\u001b[J70          0.3004         1.60794     0.352                     1.60787               \n",
      "\u001b[J71          0.2848         1.60794     0.326                     1.60786               \n",
      "\u001b[J72          0.314          1.60794     0.316                     1.60781               \n",
      "\u001b[J     total [####################################..............] 72.00%\n",
      "this epoch [..................................................]  0.00%\n",
      "      1800 iter, 72 epoch / 100 epochs\n",
      "   0.31119 iters/sec. Estimated time to finish: 0:37:29.444683.\n",
      "\u001b[4A\u001b[J73          0.294          1.60789     0.332                     1.60781               \n",
      "\u001b[J74          0.292          1.60787     0.34                      1.60777               \n",
      "\u001b[J75          0.2892         1.60785     0.33                      1.60782               \n",
      "\u001b[J76          0.3172         1.60783     0.306                     1.60776               \n",
      "\u001b[J     total [######################################............] 76.00%\n",
      "this epoch [..................................................]  0.00%\n",
      "      1900 iter, 76 epoch / 100 epochs\n",
      "   0.31172 iters/sec. Estimated time to finish: 0:32:04.826113.\n",
      "\u001b[4A\u001b[J77          0.3028         1.60783     0.316                     1.60771               \n",
      "\u001b[J78          0.3144         1.60779     0.326                     1.60769               \n",
      "\u001b[J79          0.302          1.60779     0.314                     1.60766               \n",
      "\u001b[J80          0.3216         1.60776     0.264                     1.60768               \n",
      "\u001b[J     total [########################################..........] 80.00%\n",
      "this epoch [..................................................]  0.00%\n",
      "      2000 iter, 80 epoch / 100 epochs\n",
      "   0.31206 iters/sec. Estimated time to finish: 0:26:42.236750.\n",
      "\u001b[4A\u001b[J81          0.2948         1.60774     0.326                     1.60762               \n",
      "\u001b[J82          0.296          1.6077      0.322                     1.6076                \n",
      "\u001b[J83          0.3164         1.60768     0.31                      1.60758               \n",
      "\u001b[J84          0.2828         1.60765     0.33                      1.60759               \n",
      "\u001b[J     total [##########################################........] 84.00%\n",
      "this epoch [..................................................]  0.00%\n",
      "      2100 iter, 84 epoch / 100 epochs\n",
      "   0.31246 iters/sec. Estimated time to finish: 0:21:20.155811.\n",
      "\u001b[4A\u001b[J85          0.3088         1.60764     0.302                     1.60754               \n",
      "\u001b[J86          0.294          1.60763     0.332                     1.60751               \n",
      "\u001b[J87          0.3096         1.6076      0.286                     1.60751               \n",
      "\u001b[J88          0.2984         1.60758     0.264                     1.6075                \n",
      "\u001b[J     total [############################################......] 88.00%\n",
      "this epoch [..................................................]  0.00%\n",
      "      2200 iter, 88 epoch / 100 epochs\n",
      "    0.3129 iters/sec. Estimated time to finish: 0:15:58.787051.\n",
      "\u001b[4A\u001b[J89          0.2876         1.60761     0.304                     1.60744               \n",
      "\u001b[J90          0.2888         1.60753     0.38                      1.60742               \n",
      "\u001b[J91          0.2952         1.60755     0.368                     1.6074                \n",
      "\u001b[J92          0.316          1.60749     0.294                     1.60738               \n",
      "\u001b[J     total [##############################################....] 92.00%\n",
      "this epoch [..................................................]  0.00%\n",
      "      2300 iter, 92 epoch / 100 epochs\n",
      "   0.31291 iters/sec. Estimated time to finish: 0:10:39.165329.\n",
      "\u001b[4A\u001b[J93          0.3072         1.60741     0.294                     1.60736               \n",
      "\u001b[J94          0.2972         1.60745     0.344                     1.60732               \n",
      "\u001b[J95          0.3028         1.60741     0.342                     1.60729               \n",
      "\u001b[J96          0.31           1.60738     0.354                     1.60727               \n",
      "\u001b[J     total [################################################..] 96.00%\n",
      "this epoch [..................................................]  0.00%\n",
      "      2400 iter, 96 epoch / 100 epochs\n",
      "   0.31336 iters/sec. Estimated time to finish: 0:05:19.123464.\n",
      "\u001b[4A\u001b[J97          0.3044         1.60734     0.338                     1.60724               \n",
      "\u001b[J98          0.3168         1.60733     0.326                     1.60721               \n",
      "\u001b[J99          0.3144         1.60725     0.28                      1.6072                \n",
      "\u001b[J100         0.2876         1.60727     0.292                     1.60716               \n",
      "\u001b[J     total [##################################################] 100.00%\n",
      "this epoch [..................................................]  0.00%\n",
      "      2500 iter, 100 epoch / 100 epochs\n",
      "   0.31383 iters/sec. Estimated time to finish: 0:00:00.\n",
      "\u001b[4A\u001b[J"
     ]
    }
   ],
   "source": [
    "# 学習を実行\n",
    "trainer.run()"
   ]
  },
  {
   "cell_type": "code",
   "execution_count": null,
   "metadata": {
    "collapsed": true
   },
   "outputs": [],
   "source": []
  },
  {
   "cell_type": "code",
   "execution_count": null,
   "metadata": {
    "collapsed": true
   },
   "outputs": [],
   "source": []
  },
  {
   "cell_type": "code",
   "execution_count": null,
   "metadata": {
    "collapsed": true
   },
   "outputs": [],
   "source": []
  },
  {
   "cell_type": "code",
   "execution_count": null,
   "metadata": {
    "collapsed": true
   },
   "outputs": [],
   "source": []
  },
  {
   "cell_type": "code",
   "execution_count": null,
   "metadata": {
    "collapsed": true
   },
   "outputs": [],
   "source": []
  },
  {
   "cell_type": "code",
   "execution_count": null,
   "metadata": {
    "collapsed": true
   },
   "outputs": [],
   "source": []
  },
  {
   "cell_type": "code",
   "execution_count": null,
   "metadata": {
    "collapsed": true
   },
   "outputs": [],
   "source": []
  },
  {
   "cell_type": "code",
   "execution_count": null,
   "metadata": {
    "collapsed": true
   },
   "outputs": [],
   "source": []
  }
 ],
 "metadata": {
  "kernelspec": {
   "display_name": "Python 3",
   "language": "python",
   "name": "python3"
  },
  "language_info": {
   "codemirror_mode": {
    "name": "ipython",
    "version": 3
   },
   "file_extension": ".py",
   "mimetype": "text/x-python",
   "name": "python",
   "nbconvert_exporter": "python",
   "pygments_lexer": "ipython3",
   "version": "3.6.2"
  }
 },
 "nbformat": 4,
 "nbformat_minor": 2
}
