{
 "cells": [
  {
   "cell_type": "code",
   "execution_count": 11,
   "metadata": {},
   "outputs": [
    {
     "name": "stdout",
     "output_type": "stream",
     "text": [
      "Requirement already up-to-date: chainer==2.0 in /Users/tosakanaoya/.pyenv/versions/anaconda3-5.0.0/lib/python3.6/site-packages\n",
      "Requirement already up-to-date: protobuf>=2.6.0 in /Users/tosakanaoya/.pyenv/versions/anaconda3-5.0.0/lib/python3.6/site-packages (from chainer==2.0)\n",
      "Requirement already up-to-date: numpy>=1.9.0 in /Users/tosakanaoya/.pyenv/versions/anaconda3-5.0.0/lib/python3.6/site-packages (from chainer==2.0)\n",
      "Requirement already up-to-date: six>=1.9.0 in /Users/tosakanaoya/.pyenv/versions/anaconda3-5.0.0/lib/python3.6/site-packages (from chainer==2.0)\n",
      "Requirement already up-to-date: filelock in /Users/tosakanaoya/.pyenv/versions/anaconda3-5.0.0/lib/python3.6/site-packages (from chainer==2.0)\n",
      "Requirement already up-to-date: nose in /Users/tosakanaoya/.pyenv/versions/anaconda3-5.0.0/lib/python3.6/site-packages (from chainer==2.0)\n",
      "Requirement already up-to-date: setuptools in /Users/tosakanaoya/.pyenv/versions/anaconda3-5.0.0/lib/python3.6/site-packages (from protobuf>=2.6.0->chainer==2.0)\n"
     ]
    }
   ],
   "source": [
    "# # Chainerのインストール\n",
    "# # version 2.0を使用\n",
    "! pip install -U chainer==2.0"
   ]
  },
  {
   "cell_type": "code",
   "execution_count": 18,
   "metadata": {
    "scrolled": true
   },
   "outputs": [],
   "source": [
    "import numpy as np\n",
    "import matplotlib.pyplot as plt\n",
    "% matplotlib inline\n",
    "\n",
    "import chainer\n",
    "import chainer.functions as F           # パラメータを含まない関数を収録したパッケージ\n",
    "import chainer.links as L               # パラメータを含む関数を収録したパッケージ\n",
    "from chainer import computational_graph # グラフを出力するパッケージ\n",
    "from chainer import serializers         # モデルの保存や読込を行うパッケージ\n"
   ]
  },
  {
   "cell_type": "code",
   "execution_count": 16,
   "metadata": {
    "collapsed": true
   },
   "outputs": [],
   "source": [
    "# MNISTデータをロード\n",
    "# notebookが保存されているディレクトリにダウンロードされます\n",
    "from sklearn.datasets import fetch_mldata\n",
    "mnist = fetch_mldata('MNIST original', data_home='.')"
   ]
  },
  {
   "cell_type": "code",
   "execution_count": 13,
   "metadata": {},
   "outputs": [
    {
     "data": {
      "text/plain": [
       "array([[0, 0, 0, ..., 0, 0, 0],\n",
       "       [0, 0, 0, ..., 0, 0, 0],\n",
       "       [0, 0, 0, ..., 0, 0, 0],\n",
       "       ..., \n",
       "       [0, 0, 0, ..., 0, 0, 0],\n",
       "       [0, 0, 0, ..., 0, 0, 0],\n",
       "       [0, 0, 0, ..., 0, 0, 0]], dtype=uint8)"
      ]
     },
     "execution_count": 13,
     "metadata": {},
     "output_type": "execute_result"
    }
   ],
   "source": [
    "# 画像データの確認\n",
    "X = mnist.data\n",
    "X"
   ]
  },
  {
   "cell_type": "code",
   "execution_count": 14,
   "metadata": {},
   "outputs": [
    {
     "data": {
      "text/plain": [
       "array([ 0.,  0.,  0., ...,  9.,  9.,  9.])"
      ]
     },
     "execution_count": 14,
     "metadata": {},
     "output_type": "execute_result"
    }
   ],
   "source": [
    "# 正解ラベルの確認\n",
    "y = mnist.target\n",
    "y"
   ]
  },
  {
   "cell_type": "code",
   "execution_count": 15,
   "metadata": {
    "collapsed": true
   },
   "outputs": [],
   "source": [
    "# 数値をChainerが扱える型に変換\n",
    "X = X.astype(np.float32)\n",
    "y = y.astype(np.int32)"
   ]
  },
  {
   "cell_type": "code",
   "execution_count": null,
   "metadata": {
    "collapsed": true
   },
   "outputs": [],
   "source": [
    "# 画像データの確認\n",
    "# float32に変換されている\n",
    "X"
   ]
  },
  {
   "cell_type": "code",
   "execution_count": null,
   "metadata": {
    "collapsed": true
   },
   "outputs": [],
   "source": [
    "# 正解ラベルの確認\n",
    "# int32に変換されている\n",
    "y"
   ]
  },
  {
   "cell_type": "code",
   "execution_count": 19,
   "metadata": {},
   "outputs": [
    {
     "data": {
      "text/plain": [
       "array([   0.,    0.,    0.,    0.,    0.,    0.,    0.,    0.,    0.,\n",
       "          0.,    0.,    0.,    0.,    0.,    0.,    0.,    0.,    0.,\n",
       "          0.,    0.,    0.,    0.,    0.,    0.,    0.,    0.,    0.,\n",
       "          0.,    0.,    0.,    0.,    0.,    0.,    0.,    0.,    0.,\n",
       "          0.,    0.,    0.,    0.,    0.,    0.,    0.,    0.,    0.,\n",
       "          0.,    0.,    0.,    0.,    0.,    0.,    0.,    0.,    0.,\n",
       "          0.,    0.,    0.,    0.,    0.,    0.,    0.,    0.,    0.,\n",
       "          0.,    0.,    0.,    0.,    0.,    0.,    0.,    0.,    0.,\n",
       "          0.,    0.,    0.,    0.,    0.,    0.,    0.,    0.,    0.,\n",
       "          0.,    0.,    0.,    0.,    0.,    0.,    0.,    0.,    0.,\n",
       "          0.,    0.,    0.,    0.,    0.,    0.,    0.,    0.,    0.,\n",
       "          0.,    0.,    0.,    0.,    0.,    0.,    0.,    0.,    0.,\n",
       "          0.,    0.,    0.,    0.,    0.,    0.,    0.,    0.,    0.,\n",
       "          0.,    0.,    0.,    0.,    0.,    0.,    0.,    0.,    0.,\n",
       "          0.,   51.,  159.,  253.,  159.,   50.,    0.,    0.,    0.,\n",
       "          0.,    0.,    0.,    0.,    0.,    0.,    0.,    0.,    0.,\n",
       "          0.,    0.,    0.,    0.,    0.,    0.,    0.,    0.,    0.,\n",
       "          0.,   48.,  238.,  252.,  252.,  252.,  237.,    0.,    0.,\n",
       "          0.,    0.,    0.,    0.,    0.,    0.,    0.,    0.,    0.,\n",
       "          0.,    0.,    0.,    0.,    0.,    0.,    0.,    0.,    0.,\n",
       "          0.,   54.,  227.,  253.,  252.,  239.,  233.,  252.,   57.,\n",
       "          6.,    0.,    0.,    0.,    0.,    0.,    0.,    0.,    0.,\n",
       "          0.,    0.,    0.,    0.,    0.,    0.,    0.,    0.,    0.,\n",
       "         10.,   60.,  224.,  252.,  253.,  252.,  202.,   84.,  252.,\n",
       "        253.,  122.,    0.,    0.,    0.,    0.,    0.,    0.,    0.,\n",
       "          0.,    0.,    0.,    0.,    0.,    0.,    0.,    0.,    0.,\n",
       "          0.,  163.,  252.,  252.,  252.,  253.,  252.,  252.,   96.,\n",
       "        189.,  253.,  167.,    0.,    0.,    0.,    0.,    0.,    0.,\n",
       "          0.,    0.,    0.,    0.,    0.,    0.,    0.,    0.,    0.,\n",
       "          0.,   51.,  238.,  253.,  253.,  190.,  114.,  253.,  228.,\n",
       "         47.,   79.,  255.,  168.,    0.,    0.,    0.,    0.,    0.,\n",
       "          0.,    0.,    0.,    0.,    0.,    0.,    0.,    0.,    0.,\n",
       "          0.,   48.,  238.,  252.,  252.,  179.,   12.,   75.,  121.,\n",
       "         21.,    0.,    0.,  253.,  243.,   50.,    0.,    0.,    0.,\n",
       "          0.,    0.,    0.,    0.,    0.,    0.,    0.,    0.,    0.,\n",
       "          0.,   38.,  165.,  253.,  233.,  208.,   84.,    0.,    0.,\n",
       "          0.,    0.,    0.,    0.,  253.,  252.,  165.,    0.,    0.,\n",
       "          0.,    0.,    0.,    0.,    0.,    0.,    0.,    0.,    0.,\n",
       "          0.,    7.,  178.,  252.,  240.,   71.,   19.,   28.,    0.,\n",
       "          0.,    0.,    0.,    0.,    0.,  253.,  252.,  195.,    0.,\n",
       "          0.,    0.,    0.,    0.,    0.,    0.,    0.,    0.,    0.,\n",
       "          0.,    0.,   57.,  252.,  252.,   63.,    0.,    0.,    0.,\n",
       "          0.,    0.,    0.,    0.,    0.,    0.,  253.,  252.,  195.,\n",
       "          0.,    0.,    0.,    0.,    0.,    0.,    0.,    0.,    0.,\n",
       "          0.,    0.,    0.,  198.,  253.,  190.,    0.,    0.,    0.,\n",
       "          0.,    0.,    0.,    0.,    0.,    0.,    0.,  255.,  253.,\n",
       "        196.,    0.,    0.,    0.,    0.,    0.,    0.,    0.,    0.,\n",
       "          0.,    0.,    0.,   76.,  246.,  252.,  112.,    0.,    0.,\n",
       "          0.,    0.,    0.,    0.,    0.,    0.,    0.,    0.,  253.,\n",
       "        252.,  148.,    0.,    0.,    0.,    0.,    0.,    0.,    0.,\n",
       "          0.,    0.,    0.,    0.,   85.,  252.,  230.,   25.,    0.,\n",
       "          0.,    0.,    0.,    0.,    0.,    0.,    0.,    7.,  135.,\n",
       "        253.,  186.,   12.,    0.,    0.,    0.,    0.,    0.,    0.,\n",
       "          0.,    0.,    0.,    0.,    0.,   85.,  252.,  223.,    0.,\n",
       "          0.,    0.,    0.,    0.,    0.,    0.,    0.,    7.,  131.,\n",
       "        252.,  225.,   71.,    0.,    0.,    0.,    0.,    0.,    0.,\n",
       "          0.,    0.,    0.,    0.,    0.,    0.,   85.,  252.,  145.,\n",
       "          0.,    0.,    0.,    0.,    0.,    0.,    0.,   48.,  165.,\n",
       "        252.,  173.,    0.,    0.,    0.,    0.,    0.,    0.,    0.,\n",
       "          0.,    0.,    0.,    0.,    0.,    0.,    0.,   86.,  253.,\n",
       "        225.,    0.,    0.,    0.,    0.,    0.,    0.,  114.,  238.,\n",
       "        253.,  162.,    0.,    0.,    0.,    0.,    0.,    0.,    0.,\n",
       "          0.,    0.,    0.,    0.,    0.,    0.,    0.,    0.,   85.,\n",
       "        252.,  249.,  146.,   48.,   29.,   85.,  178.,  225.,  253.,\n",
       "        223.,  167.,   56.,    0.,    0.,    0.,    0.,    0.,    0.,\n",
       "          0.,    0.,    0.,    0.,    0.,    0.,    0.,    0.,    0.,\n",
       "         85.,  252.,  252.,  252.,  229.,  215.,  252.,  252.,  252.,\n",
       "        196.,  130.,    0.,    0.,    0.,    0.,    0.,    0.,    0.,\n",
       "          0.,    0.,    0.,    0.,    0.,    0.,    0.,    0.,    0.,\n",
       "          0.,   28.,  199.,  252.,  252.,  253.,  252.,  252.,  233.,\n",
       "        145.,    0.,    0.,    0.,    0.,    0.,    0.,    0.,    0.,\n",
       "          0.,    0.,    0.,    0.,    0.,    0.,    0.,    0.,    0.,\n",
       "          0.,    0.,    0.,   25.,  128.,  252.,  253.,  252.,  141.,\n",
       "         37.,    0.,    0.,    0.,    0.,    0.,    0.,    0.,    0.,\n",
       "          0.,    0.,    0.,    0.,    0.,    0.,    0.,    0.,    0.,\n",
       "          0.,    0.,    0.,    0.,    0.,    0.,    0.,    0.,    0.,\n",
       "          0.,    0.,    0.,    0.,    0.,    0.,    0.,    0.,    0.,\n",
       "          0.,    0.,    0.,    0.,    0.,    0.,    0.,    0.,    0.,\n",
       "          0.,    0.,    0.,    0.,    0.,    0.,    0.,    0.,    0.,\n",
       "          0.,    0.,    0.,    0.,    0.,    0.,    0.,    0.,    0.,\n",
       "          0.,    0.,    0.,    0.,    0.,    0.,    0.,    0.,    0.,\n",
       "          0.,    0.,    0.,    0.,    0.,    0.,    0.,    0.,    0.,\n",
       "          0.,    0.,    0.,    0.,    0.,    0.,    0.,    0.,    0.,\n",
       "          0.,    0.,    0.,    0.,    0.,    0.,    0.,    0.,    0.,\n",
       "          0.,    0.,    0.,    0.,    0.,    0.,    0.,    0.,    0.,\n",
       "          0.,    0.,    0.,    0.,    0.,    0.,    0.,    0.,    0.,\n",
       "          0.,    0.,    0.,    0.,    0.,    0.,    0.,    0.,    0.,    0.], dtype=float32)"
      ]
     },
     "execution_count": 19,
     "metadata": {},
     "output_type": "execute_result"
    }
   ],
   "source": [
    "# ベクトル化された画像を確認\n",
    "# 0〜255の整数値が入っている\n",
    "X[0]"
   ]
  },
  {
   "cell_type": "code",
   "execution_count": 20,
   "metadata": {
    "collapsed": true
   },
   "outputs": [],
   "source": [
    "# 画像の正規化\n",
    "X /= 255."
   ]
  },
  {
   "cell_type": "code",
   "execution_count": 21,
   "metadata": {},
   "outputs": [
    {
     "data": {
      "text/plain": [
       "(70000, 784)"
      ]
     },
     "execution_count": 21,
     "metadata": {},
     "output_type": "execute_result"
    }
   ],
   "source": [
    "# shapeを確認\n",
    "# (画像は全部で7万枚収録, それぞれの画像が28*28=784ピクセル)\n",
    "X.shape"
   ]
  },
  {
   "cell_type": "code",
   "execution_count": 22,
   "metadata": {},
   "outputs": [
    {
     "data": {
      "text/plain": [
       "(70000,)"
      ]
     },
     "execution_count": 22,
     "metadata": {},
     "output_type": "execute_result"
    }
   ],
   "source": [
    "# 正解ラベルの構造を確認\n",
    "# (7万枚の画像に対して, ひとつの正解ラベル)\n",
    "y.shape"
   ]
  },
  {
   "cell_type": "code",
   "execution_count": 23,
   "metadata": {
    "collapsed": true
   },
   "outputs": [],
   "source": [
    "# データを画像として出力する関数\n",
    "def draw_digit(data):\n",
    "    \"\"\"数値の行列データを画像表示\"\"\"\n",
    "    plt.figure(figsize=(3, 3))\n",
    "    X, Y = np.meshgrid(range(28),range(28))\n",
    "    Z = data.reshape(28, 28)\n",
    "    Z = Z[::-1,:]\n",
    "    plt.pcolor(X, Y, Z)\n",
    "    plt.tick_params(labelbottom=\"off\")\n",
    "    plt.tick_params(labelleft=\"off\")\n",
    "    plt.gray()\n",
    "    plt.show()"
   ]
  },
  {
   "cell_type": "code",
   "execution_count": 24,
   "metadata": {},
   "outputs": [
    {
     "data": {
      "image/png": "[encoded data removed]",
      "text/plain": [
       "<matplotlib.figure.Figure at 0x117ad07b8>"
      ]
     },
     "metadata": {},
     "output_type": "display_data"
    }
   ],
   "source": [
    "# データを画像として出力\n",
    "# indexを指定して任意の画像を選択\n",
    "index = 50000\n",
    "draw_digit(X[index])"
   ]
  },
  {
   "cell_type": "code",
   "execution_count": 25,
   "metadata": {},
   "outputs": [
    {
     "data": {
      "text/plain": [
       "8"
      ]
     },
     "execution_count": 25,
     "metadata": {},
     "output_type": "execute_result"
    }
   ],
   "source": [
    "# 出力した画像の正解ラベルを確認\n",
    "y[index]"
   ]
  },
  {
   "cell_type": "code",
   "execution_count": 27,
   "metadata": {
    "collapsed": true
   },
   "outputs": [],
   "source": [
    "# trainデータとtestデータに分割\n",
    "from sklearn.model_selection import train_test_split\n",
    "X_train, X_test, y_train, y_test = train_test_split(X,y,test_size=0.3,random_state=0)"
   ]
  },
  {
   "cell_type": "code",
   "execution_count": 29,
   "metadata": {},
   "outputs": [
    {
     "data": {
      "text/plain": [
       "49000"
      ]
     },
     "execution_count": 29,
     "metadata": {},
     "output_type": "execute_result"
    }
   ],
   "source": [
    "# trainデータのサイズを確認\n",
    "N_train = len(X_train)\n",
    "N_train"
   ]
  },
  {
   "cell_type": "code",
   "execution_count": 30,
   "metadata": {},
   "outputs": [
    {
     "data": {
      "text/plain": [
       "21000"
      ]
     },
     "execution_count": 30,
     "metadata": {},
     "output_type": "execute_result"
    }
   ],
   "source": [
    "# testデータのサイズを確認\n",
    "N_test = len(X_test)\n",
    "N_test"
   ]
  },
  {
   "cell_type": "code",
   "execution_count": 31,
   "metadata": {
    "collapsed": true
   },
   "outputs": [],
   "source": [
    "# ニューラルネットワークの定義\n",
    "# 4層のDeep Neural Network\n",
    "# chainerのChainクラスを継承\n",
    "class MLP(chainer.Chain):\n",
    "    ''' ニューラルネットの構造を定義'''\n",
    "    def __init__(self):\n",
    "        super(MLP, self).__init__()\n",
    "        with self.init_scope():\n",
    "            self.l1=L.Linear(784, 900)  # 第1層からの入力784､第2層への出力900\n",
    "            self.l2=L.Linear(900, 1000) # 第2層からの入力600､第3層への出力1000\n",
    "            self.l3=L.Linear(1000, 500) # 第3層からの入力1000､第4層への出力500\n",
    "            self.l4=L.Linear(500, 10)   # 第4層からの入力500､出力層への出力10\n",
    "        \n",
    "    \n",
    "    ''' ニューラルネットの計算規則を定義'''\n",
    "    def __call__(self, X):\n",
    "        h1 = F.relu(self.l1(X))  # 1つめの隠れ層からの出力を計算\n",
    "        h2 = F.relu(self.l2(h1)) # 2つめの隠れ層からの出力を計算\n",
    "        h3 = F.relu(self.l3(h2)) # 3つめの隠れ層からの出力を計算\n",
    "        return self.l4(h3)       # 出力層への入力を返す"
   ]
  },
  {
   "cell_type": "code",
   "execution_count": 32,
   "metadata": {
    "collapsed": true
   },
   "outputs": [],
   "source": [
    "# 分類器インスタンスの生成\n",
    "# MLPクラスのインスタンスを引数として渡す\n",
    "model = L.Classifier(MLP())"
   ]
  },
  {
   "cell_type": "code",
   "execution_count": 33,
   "metadata": {
    "collapsed": true
   },
   "outputs": [],
   "source": [
    "# gpuの使用の有無を指定\n",
    "# 今回はCPUを想定しているため-1に指定\n",
    "gpu = -1 "
   ]
  },
  {
   "cell_type": "code",
   "execution_count": 34,
   "metadata": {
    "collapsed": true
   },
   "outputs": [],
   "source": [
    "# cupyの使用の有無を指定\n",
    "if gpu >= 0:\n",
    "    xp = cuda.cupy\n",
    "    cupy.cuda.Device(gpu).use()\n",
    "    model.to_gpu()\n",
    "else:\n",
    "    xp = np"
   ]
  },
  {
   "cell_type": "code",
   "execution_count": 38,
   "metadata": {
    "collapsed": true
   },
   "outputs": [],
   "source": [
    "# # データをxpの32bit小数の型に変換\n",
    "# X_train, X_test, y_train, y_test = train_test_split(X, y, test_size=0.3, random_state=0)\n",
    "# # 数値をChainerが扱える型に変換\n",
    "# X = X.astype(xp.float32)\n",
    "# y = y.astype(xp.int32)"
   ]
  },
  {
   "cell_type": "code",
   "execution_count": 39,
   "metadata": {
    "collapsed": true
   },
   "outputs": [],
   "source": [
    "# optimizerの定義\n",
    "optimizer = chainer.optimizers.SGD()  # 今回はSGDを利用\n",
    "optimizer.setup(model)                # モデルを読み込ませる"
   ]
  },
  {
   "cell_type": "code",
   "execution_count": 40,
   "metadata": {
    "collapsed": true
   },
   "outputs": [],
   "source": [
    "# ミニバッチに含まれるサンプル数を指定\n",
    "# データからサンプルを100個ずつ取り出して学習する\n",
    "batch_size = 100"
   ]
  },
  {
   "cell_type": "code",
   "execution_count": 41,
   "metadata": {
    "collapsed": true
   },
   "outputs": [],
   "source": [
    "# epoch数を指定\n",
    "n_epoch = 20"
   ]
  },
  {
   "cell_type": "code",
   "execution_count": 42,
   "metadata": {
    "collapsed": true
   },
   "outputs": [],
   "source": [
    "# 必要なモジュールの読み込み\n",
    "from chainer.datasets import tuple_dataset\n",
    "from chainer import iterators, training\n",
    "from chainer.training import extensions"
   ]
  },
  {
   "cell_type": "code",
   "execution_count": 43,
   "metadata": {
    "collapsed": true
   },
   "outputs": [],
   "source": [
    "# X_trainとy_trainをTupleDatasetにまとめる\n",
    "train = tuple_dataset.TupleDataset(X_train, y_train)"
   ]
  },
  {
   "cell_type": "code",
   "execution_count": 44,
   "metadata": {
    "collapsed": true
   },
   "outputs": [],
   "source": [
    "# train_iterを生成\n",
    "train_iter = iterators.SerialIterator(train, batch_size=batch_size, shuffle=True)"
   ]
  },
  {
   "cell_type": "code",
   "execution_count": 47,
   "metadata": {
    "collapsed": true
   },
   "outputs": [],
   "source": [
    "# Updataerを生成\n",
    "# 今回はCPUの利用を想定\n",
    "updater = training.StandardUpdater(train_iter, optimizer, device=gpu)\n"
   ]
  },
  {
   "cell_type": "code",
   "execution_count": 48,
   "metadata": {
    "collapsed": true
   },
   "outputs": [],
   "source": [
    "# trainerの定義\n",
    "trainer = training.Trainer(updater, (n_epoch,'epoch'), out='result')"
   ]
  },
  {
   "cell_type": "code",
   "execution_count": 49,
   "metadata": {
    "collapsed": true
   },
   "outputs": [],
   "source": [
    "# testデータをTupleDatasetに変換\n",
    "test = tuple_dataset.TupleDataset(X_test,y_test)"
   ]
  },
  {
   "cell_type": "code",
   "execution_count": 50,
   "metadata": {
    "collapsed": true
   },
   "outputs": [],
   "source": [
    "# test_iterを生成\n",
    "test_iter = iterators.SerialIterator(test, batch_size=batch_size ,shuffle=False, repeat=False)"
   ]
  },
  {
   "cell_type": "code",
   "execution_count": 51,
   "metadata": {
    "collapsed": true
   },
   "outputs": [],
   "source": [
    "# Evaluatorクラスをtrainerに登録しておく\n",
    "trainer.extend(extensions.Evaluator(test_iter, model))"
   ]
  },
  {
   "cell_type": "code",
   "execution_count": 52,
   "metadata": {
    "collapsed": true
   },
   "outputs": [],
   "source": [
    "# ログファイルを作成する機能を追加\n",
    "trainer.extend(extensions.LogReport())"
   ]
  },
  {
   "cell_type": "code",
   "execution_count": 53,
   "metadata": {
    "collapsed": true
   },
   "outputs": [],
   "source": [
    "# 学習状況の報告を逐一出力する機能を追加\n",
    "trainer.extend(extensions.PrintReport(['epoch', 'main/loss', 'main/accuracy', 'validation/main/loss','validation/main/accuracy']))"
   ]
  },
  {
   "cell_type": "code",
   "execution_count": 54,
   "metadata": {
    "collapsed": true
   },
   "outputs": [],
   "source": [
    "# trainとtestの精度のグラフを出力\n",
    "trainer.extend(extensions.PlotReport(['main/accuracy', 'validation/main/accuracy'],\n",
    "                          'epoch', file_name='accuracy.png'))\n",
    "# trainとtestの損失関数のグラフを出力\n",
    "trainer.extend(extensions.PlotReport(['main/loss', 'validation/main/loss'],\n",
    "                          'epoch', file_name='loss.png'))"
   ]
  },
  {
   "cell_type": "code",
   "execution_count": 55,
   "metadata": {
    "collapsed": true
   },
   "outputs": [],
   "source": [
    "# 進捗報告をする機能を追加\n",
    "# trainer.extend(extensions.ProgressBar())"
   ]
  },
  {
   "cell_type": "code",
   "execution_count": 56,
   "metadata": {},
   "outputs": [
    {
     "name": "stdout",
     "output_type": "stream",
     "text": [
      "epoch       main/loss   main/accuracy  validation/main/loss  validation/main/accuracy\n",
      "\u001b[J1           1.2501      0.737796       0.535265              0.864429                  \n",
      "\u001b[J2           0.428952    0.88651        0.363279              0.896                     \n",
      "\u001b[J3           0.332286    0.907122       0.31119               0.910857                  \n",
      "\u001b[J4           0.290238    0.918163       0.282422              0.918333                  \n",
      "\u001b[J5           0.262434    0.924796       0.257872              0.924095                  \n",
      "\u001b[J6           0.241173    0.930857       0.239409              0.930905                  \n",
      "\u001b[J7           0.223637    0.935857       0.224925              0.933667                  \n",
      "\u001b[J8           0.208041    0.940041       0.212855              0.937952                  \n",
      "\u001b[J9           0.193977    0.944653       0.201011              0.941238                  \n",
      "\u001b[J10          0.18208     0.948327       0.190601              0.944762                  \n",
      "\u001b[J11          0.170934    0.951469       0.181145              0.947286                  \n",
      "\u001b[J12          0.160893    0.954592       0.174266              0.949                     \n",
      "\u001b[J13          0.151715    0.956551       0.166526              0.952286                  \n",
      "\u001b[J14          0.143492    0.958755       0.159633              0.953714                  \n",
      "\u001b[J15          0.135787    0.961265       0.154167              0.955381                  \n",
      "\u001b[J16          0.128556    0.963143       0.149935              0.956619                  \n",
      "\u001b[J17          0.121909    0.965327       0.142523              0.95881                   \n",
      "\u001b[J18          0.115902    0.967265       0.139465              0.959095                  \n",
      "\u001b[J19          0.110227    0.968776       0.13344               0.961429                  \n",
      "\u001b[J20          0.105048    0.970286       0.131299              0.962143                  \n"
     ]
    }
   ],
   "source": [
    "# 指定した内容で学習を実行\n",
    "trainer.run()"
   ]
  },
  {
   "cell_type": "code",
   "execution_count": 57,
   "metadata": {
    "collapsed": true
   },
   "outputs": [],
   "source": [
    "# ReportPlotによるグラフを出力する関数\n",
    "from pylab import box\n",
    "def show_graph(src):\n",
    "    img =  plt.imread(src)\n",
    "    xpixels,ypixels = img.shape[0],img.shape[1]\n",
    "    dpi = 100\n",
    "    margin = 0.01\n",
    "    figsize = (1 + margin) * ypixels / dpi, (1 + margin) * xpixels / dpi\n",
    "\n",
    "    fig = plt.figure(figsize=figsize, dpi=dpi)\n",
    "    ax = fig.add_axes([margin, margin, 1 - 2*margin, 1 - 2*margin])\n",
    "    ax.tick_params(labelbottom=\"off\",bottom=\"off\")\n",
    "    ax.tick_params(labelleft=\"off\",left=\"off\")\n",
    "\n",
    "    ax.imshow(img, interpolation='none')\n",
    "    box(\"off\")\n",
    "    plt.show()"
   ]
  },
  {
   "cell_type": "code",
   "execution_count": 58,
   "metadata": {},
   "outputs": [
    {
     "data": {
      "image/png": "[encoded data removed]",
      "text/plain": [
       "<matplotlib.figure.Figure at 0x1a30d0d7b8>"
      ]
     },
     "metadata": {},
     "output_type": "display_data"
    },
    {
     "data": {
      "image/png": "[encoded data removed]",
      "text/plain": [
       "<matplotlib.figure.Figure at 0x1a3116b1d0>"
      ]
     },
     "metadata": {},
     "output_type": "display_data"
    }
   ],
   "source": [
    "# 誤差と精度のグラフを描画\n",
    "show_graph('result/loss.png')\n",
    "show_graph('result/accuracy.png')"
   ]
  },
  {
   "cell_type": "code",
   "execution_count": 59,
   "metadata": {
    "collapsed": true
   },
   "outputs": [],
   "source": [
    "# モデルを利用して予測をする関数を定義\n",
    "def predict(model, X):\n",
    "    # データ数が1の場合は、バッチサイズ分の次元を追加\n",
    "    if len(X.shape) == 1:  \n",
    "        pred = model.predictor(X[None, ...]).data.argmax()\n",
    "    # データ数が2以上の場合はそのまま\n",
    "    else:  \n",
    "        pred = model.predictor(X).data.argmax(axis=1)\n",
    "    return pred"
   ]
  },
  {
   "cell_type": "code",
   "execution_count": 60,
   "metadata": {},
   "outputs": [
    {
     "data": {
      "image/png": "[encoded data removed]",
      "text/plain": [
       "<matplotlib.figure.Figure at 0x1a312e3e10>"
      ]
     },
     "metadata": {},
     "output_type": "display_data"
    }
   ],
   "source": [
    "# testデータ内のサンプルをピックアップ\n",
    "# indexを指定して任意の画像を選択\n",
    "index = 123\n",
    "draw_digit(X_test[index])"
   ]
  },
  {
   "cell_type": "code",
   "execution_count": 61,
   "metadata": {},
   "outputs": [
    {
     "name": "stdout",
     "output_type": "stream",
     "text": [
      "predict:  2\n",
      "answer :  2\n",
      "正解です｡\n"
     ]
    }
   ],
   "source": [
    "# 予測を行い､答え合わせをする\n",
    "pred = predict(model, X_test[index])\n",
    "ans  = y_test[index]\n",
    "\n",
    "print('predict: ', pred)\n",
    "print('answer : ', ans)\n",
    "\n",
    "if pred == ans:\n",
    "    print('正解です｡')\n",
    "else:\n",
    "    print('不正解です')"
   ]
  },
  {
   "cell_type": "code",
   "execution_count": 75,
   "metadata": {},
   "outputs": [
    {
     "data": {
      "text/plain": [
       "array([[1976,    0,   11,    0,    2,   12,   18,    4,    7,   10],\n",
       "       [   0, 2373,   13,    6,    5,    1,    6,   11,   20,    7],\n",
       "       [   2,   10, 1944,   16,    5,    4,    1,    9,    3,    2],\n",
       "       [   0,    7,   13, 1966,    0,   18,    0,    2,   24,   21],\n",
       "       [   2,    1,    7,    0, 1987,    6,    8,    8,    3,   29],\n",
       "       [   5,    2,    3,   32,    1, 1829,   14,    2,   12,   11],\n",
       "       [   7,    0,   10,    1,   14,   11, 2024,    0,    9,    1],\n",
       "       [   5,    2,   26,   12,    7,    4,    1, 2132,    6,   27],\n",
       "       [   7,   11,   16,   34,    5,   20,    6,    3, 2001,   12],\n",
       "       [   4,    6,    2,   15,   52,   15,    0,   20,    8, 1973]])"
      ]
     },
     "execution_count": 75,
     "metadata": {},
     "output_type": "execute_result"
    }
   ],
   "source": [
    "# 混同行列を出力\n",
    "# testデータに対して行うことに注意\n",
    "from sklearn.metrics import confusion_matrix as cm\n",
    "result = predict(model, X_test)\n",
    "cm(result, y_test)"
   ]
  },
  {
   "cell_type": "code",
   "execution_count": 76,
   "metadata": {
    "collapsed": true
   },
   "outputs": [],
   "source": [
    "# 混同行列をグラフで出力する関数\n",
    "def plot_cm(y_true, y_pred):\n",
    "    confmat = cm(y_true, y_pred)\n",
    "    fig, ax = plt.subplots(figsize=(10, 10))\n",
    "    ax.matshow(confmat, cmap=plt.cm.Blues, alpha=0.3)\n",
    "    for i in range(confmat.shape[0]):\n",
    "        for j in range(confmat.shape[1]):\n",
    "            ax.text(x=j, y=i, s=confmat[i, j], va='center', ha='center')\n",
    "    plt.xticks(xp.arange(0, 10, 1)) # x軸の目盛りを指定\n",
    "    plt.yticks(xp.arange(0, 10, 1)) # y軸の目盛りを指定\n",
    "    plt.xlabel('predicted label')\n",
    "    plt.ylabel('true label')\n",
    "    plt.show()"
   ]
  },
  {
   "cell_type": "code",
   "execution_count": 77,
   "metadata": {},
   "outputs": [
    {
     "data": {
      "image/png": "[encoded data removed]",
      "text/plain": [
       "<matplotlib.figure.Figure at 0x1a30f0dac8>"
      ]
     },
     "metadata": {},
     "output_type": "display_data"
    }
   ],
   "source": [
    "# 混同行列をグラフで出力\n",
    "# testデータに対して行うことに注意\n",
    "plot_cm(result, y_test)"
   ]
  },
  {
   "cell_type": "code",
   "execution_count": 78,
   "metadata": {},
   "outputs": [
    {
     "name": "stdout",
     "output_type": "stream",
     "text": [
      "accuracy: 0.962\n",
      "recall: 0.962\n",
      "precision: 0.962\n",
      "f1_score: 0.962\n"
     ]
    }
   ],
   "source": [
    "# 性能指標を確認\n",
    "from sklearn import metrics\n",
    "print('accuracy: %.3f' % metrics.accuracy_score(y_test, predict(model, X_test)))\n",
    "print('recall: %.3f' % metrics.recall_score(y_test, predict(model, X_test), average='macro'))\n",
    "print('precision: %.3f' % metrics.precision_score(y_test, predict(model, X_test), average='macro'))\n",
    "print('f1_score: %.3f' % metrics.f1_score(y_test, predict(model, X_test), average='macro'))"
   ]
  },
  {
   "cell_type": "code",
   "execution_count": 79,
   "metadata": {},
   "outputs": [
    {
     "data": {
      "image/png": "[encoded data removed]",
      "text/plain": [
       "<matplotlib.figure.Figure at 0x1a31608400>"
      ]
     },
     "metadata": {},
     "output_type": "display_data"
    },
    {
     "name": "stdout",
     "output_type": "stream",
     "text": [
      "正解：9  予測：3\n"
     ]
    },
    {
     "data": {
      "image/png": "[encoded data removed]",
      "text/plain": [
       "<matplotlib.figure.Figure at 0x1a324f3c88>"
      ]
     },
     "metadata": {},
     "output_type": "display_data"
    },
    {
     "name": "stdout",
     "output_type": "stream",
     "text": [
      "正解：9  予測：7\n"
     ]
    },
    {
     "data": {
      "image/png": "[encoded data removed]",
      "text/plain": [
       "<matplotlib.figure.Figure at 0x1a30746dd8>"
      ]
     },
     "metadata": {},
     "output_type": "display_data"
    },
    {
     "name": "stdout",
     "output_type": "stream",
     "text": [
      "正解：4  予測：8\n"
     ]
    }
   ],
   "source": [
    "# 予想が外れたデータを表示\n",
    "# 今回は3つだけ表示\n",
    "count = 0\n",
    "for i in range(len(y_test)):\n",
    "    pre = predict(model, X_test[i]) # 予測結果\n",
    "    ans =  y_test[i]                # 正解\n",
    "    \n",
    "    # 正解が4か9のサンプルについてだけ確認\n",
    "    if (ans != 9) and (ans != 4):\n",
    "        continue\n",
    "        \n",
    "    # 予測が間違っていたらリストへ格納\n",
    "    if pre != ans:\n",
    "        count += 1\n",
    "        # 予測を間違えた画像を3枚だけ表示\n",
    "        if count > 3:\n",
    "            break\n",
    "        draw_digit(X_test[i])\n",
    "        print(\"正解：{}  予測：{}\".format(ans, pre))"
   ]
  },
  {
   "cell_type": "code",
   "execution_count": 80,
   "metadata": {},
   "outputs": [
    {
     "name": "stdout",
     "output_type": "stream",
     "text": [
      "Saved the model.\n"
     ]
    }
   ],
   "source": [
    "# モデルの保存\n",
    "# (ファイル名, 保存したいモデルの変数名)\n",
    "serializers.save_npz('mnist.model', model)\n",
    "print('Saved the model.')"
   ]
  },
  {
   "cell_type": "code",
   "execution_count": 81,
   "metadata": {},
   "outputs": [
    {
     "name": "stdout",
     "output_type": "stream",
     "text": [
      "Loaded the model.\n"
     ]
    }
   ],
   "source": [
    "# モデルの読込\n",
    "# (ファイル名, 読み込みたいモデルに与える変数名)\n",
    "serializers.load_npz('mnist.model', model)\n",
    "print('Loaded the model.')"
   ]
  },
  {
   "cell_type": "code",
   "execution_count": 83,
   "metadata": {},
   "outputs": [
    {
     "data": {
      "text/plain": [
       "<chainer.links.model.classifier.Classifier at 0x117ad02b0>"
      ]
     },
     "execution_count": 83,
     "metadata": {},
     "output_type": "execute_result"
    }
   ],
   "source": [
    "# モデルを読み込めたことを確認\n",
    "model"
   ]
  },
  {
   "cell_type": "code",
   "execution_count": 84,
   "metadata": {},
   "outputs": [
    {
     "name": "stdout",
     "output_type": "stream",
     "text": [
      "-rw-r--r--  1 tosakanaoya  staff  7853859 11  4 16:54 mnist.model\r\n"
     ]
    }
   ],
   "source": [
    "%ls -la mnist.model"
   ]
  },
  {
   "cell_type": "code",
   "execution_count": null,
   "metadata": {
    "collapsed": true
   },
   "outputs": [],
   "source": []
  }
 ],
 "metadata": {
  "kernelspec": {
   "display_name": "Python 3",
   "language": "python",
   "name": "python3"
  },
  "language_info": {
   "codemirror_mode": {
    "name": "ipython",
    "version": 3
   },
   "file_extension": ".py",
   "mimetype": "text/x-python",
   "name": "python",
   "nbconvert_exporter": "python",
   "pygments_lexer": "ipython3",
   "version": "3.6.2"
  }
 },
 "nbformat": 4,
 "nbformat_minor": 2
}
