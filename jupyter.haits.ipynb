{
 "cells": [
  {
   "cell_type": "code",
   "execution_count": 2,
   "metadata": {
    "collapsed": true
   },
   "outputs": [],
   "source": [
    "# 適当な数値を定義\n",
    "a = 1\n",
    "b = 2\n",
    "c = 3"
   ]
  },
  {
   "cell_type": "code",
   "execution_count": 3,
   "metadata": {},
   "outputs": [
    {
     "data": {
      "text/plain": [
       "True"
      ]
     },
     "execution_count": 3,
     "metadata": {},
     "output_type": "execute_result"
    }
   ],
   "source": [
    "# 2つの値が等しいかどうか\n",
    "a == 1"
   ]
  },
  {
   "cell_type": "code",
   "execution_count": 4,
   "metadata": {},
   "outputs": [
    {
     "data": {
      "text/plain": [
       "False"
      ]
     },
     "execution_count": 4,
     "metadata": {},
     "output_type": "execute_result"
    }
   ],
   "source": [
    "# 2つの値が等しいかどうか\n",
    "b == 1"
   ]
  },
  {
   "cell_type": "code",
   "execution_count": 3,
   "metadata": {},
   "outputs": [
    {
     "data": {
      "text/plain": [
       "True"
      ]
     },
     "execution_count": 3,
     "metadata": {},
     "output_type": "execute_result"
    }
   ],
   "source": [
    "# 適当な数値を定義\n",
    "a = 1\n",
    "b = 2\n",
    "c = 3\n",
    "# 2つの値が異なるかどうか\n",
    "a != 1"
   ]
  },
  {
   "cell_type": "code",
   "execution_count": 4,
   "metadata": {},
   "outputs": [
    {
     "data": {
      "text/plain": [
       "True"
      ]
     },
     "execution_count": 4,
     "metadata": {},
     "output_type": "execute_result"
    }
   ],
   "source": [
    "# 2つの条件が同時に成り立っているかどうか\n",
    "(a < b) and (b < c)"
   ]
  },
  {
   "cell_type": "code",
   "execution_count": 5,
   "metadata": {},
   "outputs": [
    {
     "data": {
      "text/plain": [
       "True"
      ]
     },
     "execution_count": 5,
     "metadata": {},
     "output_type": "execute_result"
    }
   ],
   "source": [
    "# 2つの条件が少なくとも片方は成り立っているかどうか\n",
    "(a < b) or (b > c)"
   ]
  },
  {
   "cell_type": "code",
   "execution_count": 6,
   "metadata": {
    "collapsed": true
   },
   "outputs": [],
   "source": [
    "# 適当なリストを定義\n",
    "alphabet = ['a', 'b', 'c', 'd', 'e', 'f']"
   ]
  },
  {
   "cell_type": "code",
   "execution_count": 7,
   "metadata": {},
   "outputs": [
    {
     "data": {
      "text/plain": [
       "True"
      ]
     },
     "execution_count": 7,
     "metadata": {},
     "output_type": "execute_result"
    }
   ],
   "source": [
    "# cがalphabetに含まれるかどうか\n",
    "'c' in alphabet"
   ]
  },
  {
   "cell_type": "code",
   "execution_count": 9,
   "metadata": {},
   "outputs": [
    {
     "data": {
      "text/plain": [
       "500"
      ]
     },
     "execution_count": 9,
     "metadata": {},
     "output_type": "execute_result"
    }
   ],
   "source": [
    "# コンビニで買物をするプログラム\n",
    "# 最初500円を持っている設定\n",
    "money = 500\n",
    "\n",
    "# 所持金が100円以上あれば､100円の商品を購入する\n",
    "if money >= 600:\n",
    "    money -= 700\n",
    "\n",
    "# 処理後の所持金を確認\n",
    "money"
   ]
  },
  {
   "cell_type": "code",
   "execution_count": 11,
   "metadata": {},
   "outputs": [
    {
     "name": "stdout",
     "output_type": "stream",
     "text": [
      "田中一郎\n",
      "佐藤二郎\n",
      "鈴木三郎\n"
     ]
    }
   ],
   "source": [
    "# 適当なリストを定義\n",
    "members = ['田中一郎', '佐藤二郎', '鈴木三郎']\n",
    "\n",
    "# 名前を順番に呼んでいくプログラム\n",
    "for name in members:\n",
    "    print(name)"
   ]
  },
  {
   "cell_type": "code",
   "execution_count": 10,
   "metadata": {},
   "outputs": [
    {
     "name": "stdout",
     "output_type": "stream",
     "text": [
      "0\n",
      "1\n",
      "2\n",
      "3\n",
      "4\n"
     ]
    }
   ],
   "source": [
    "# 数字を0から4まで出力するプログラム\n",
    "for i in range(5):\n",
    "    print(i)\n"
   ]
  },
  {
   "cell_type": "code",
   "execution_count": 14,
   "metadata": {},
   "outputs": [
    {
     "name": "stdout",
     "output_type": "stream",
     "text": [
      "5\n",
      "6\n",
      "7\n",
      "8\n",
      "9\n"
     ]
    }
   ],
   "source": [
    "#例(ステップ数指定：２０から９９までを５ずつカウントアップしている。)\n",
    "for n in range(5, 10):\n",
    "    print(n)"
   ]
  },
  {
   "cell_type": "code",
   "execution_count": 15,
   "metadata": {},
   "outputs": [
    {
     "name": "stdout",
     "output_type": "stream",
     "text": [
      "0\n",
      "2\n",
      "4\n",
      "6\n",
      "8\n"
     ]
    }
   ],
   "source": [
    "for num in range(0, 10, 2):\n",
    "    print(num)"
   ]
  },
  {
   "cell_type": "code",
   "execution_count": 16,
   "metadata": {},
   "outputs": [
    {
     "name": "stdout",
     "output_type": "stream",
     "text": [
      "田中一郎さんは､肉を食べます｡\n",
      "佐藤二郎さんは､野菜を食べます｡\n",
      "鈴木三郎さんは､魚を食べます｡\n"
     ]
    }
   ],
   "source": [
    "# 2つのイテレータを定義\n",
    "members = ['田中一郎', '佐藤二郎', '鈴木三郎']\n",
    "menu = ['肉', '野菜', '魚']\n",
    "\n",
    "# 注文と合わせて名前を呼ぶ\n",
    "for food, name in zip(menu, members):\n",
    "    print('{}さんは､{}を食べます｡'.format(name, food))"
   ]
  },
  {
   "cell_type": "code",
   "execution_count": 18,
   "metadata": {},
   "outputs": [
    {
     "data": {
      "text/plain": [
       "3.0"
      ]
     },
     "execution_count": 18,
     "metadata": {},
     "output_type": "execute_result"
    }
   ],
   "source": [
    "# 引数となる2つの数値を掛け算して返す関数\n",
    "def divide(num_1, num_2):\n",
    "    div = num_1 / num_2\n",
    "    return div\n",
    "# 適当な数値を用意\n",
    "a = 24\n",
    "b = 8\n",
    "divide(a,b)\n"
   ]
  },
  {
   "cell_type": "code",
   "execution_count": 21,
   "metadata": {},
   "outputs": [
    {
     "data": {
      "text/plain": [
       "3.0"
      ]
     },
     "execution_count": 21,
     "metadata": {},
     "output_type": "execute_result"
    }
   ],
   "source": [
    "# キーワード引数を利用した定義\n",
    "def divide_2(num_1=0, num_2=1):\n",
    "    div = num_1 / num_2\n",
    "    return div\n",
    "# 順序を逆にして呼び出す\n",
    "divide_2(num_2=8, num_1=24)"
   ]
  },
  {
   "cell_type": "code",
   "execution_count": 22,
   "metadata": {},
   "outputs": [
    {
     "data": {
      "text/plain": [
       "5.0"
      ]
     },
     "execution_count": 22,
     "metadata": {},
     "output_type": "execute_result"
    }
   ],
   "source": [
    "# 一部の引数を指定せずに呼び出す\n",
    "divide_2(num_1=5)"
   ]
  },
  {
   "cell_type": "code",
   "execution_count": 24,
   "metadata": {},
   "outputs": [
    {
     "data": {
      "text/plain": [
       "120"
      ]
     },
     "execution_count": 24,
     "metadata": {},
     "output_type": "execute_result"
    }
   ],
   "source": [
    "# 可変長引数で渡された引数をすべて掛け算する関数\n",
    "# numbersは関数中でタプルとして機能する\n",
    "def multiple(*numbers):\n",
    "    mul = 1\n",
    "    for num in numbers:\n",
    "        mul *= num\n",
    "    return mul\n",
    "# すべての位置引数を掛け算する\n",
    "multiple(1, 2, 3, 4, 5)"
   ]
  },
  {
   "cell_type": "code",
   "execution_count": 25,
   "metadata": {},
   "outputs": [
    {
     "name": "stdout",
     "output_type": "stream",
     "text": [
      "0\n",
      "1\n"
     ]
    }
   ],
   "source": [
    "l1 = [\"a\",\"p\",\"p\",\"l\",\"e\"]\n",
    "l2 = [\"b\",\"a\",\"n\",\"a\",\"n\",\"a\"]\n",
    "print(l1.index(\"a\"))           # indexメソッドを呼び出す 引数で与えられたものが初めて登場するインデックスを返す\n",
    "print(l2.index(\"a\"))           # 関数とは異なり、引数が同じでも、インスタンス毎に処理の結果は違う"
   ]
  },
  {
   "cell_type": "code",
   "execution_count": 26,
   "metadata": {},
   "outputs": [
    {
     "name": "stdout",
     "output_type": "stream",
     "text": [
      "4 10 2\n",
      "2\n"
     ]
    }
   ],
   "source": [
    "r = range(4,10,2)\n",
    "print(r.start,r.stop,r.step)  # rangeクラスのインスタンスはインスタンス変数としてstart,stop,stepを持つ\n",
    "print(r.index(8))                  # rangeクラスもindexメソッドを持つ"
   ]
  },
  {
   "cell_type": "code",
   "execution_count": 31,
   "metadata": {
    "collapsed": true
   },
   "outputs": [],
   "source": [
    "class Rectangle():\n",
    "    def __init__(self,height,width):\n",
    "        self.height = height\n",
    "        self.width = width\n",
    "        \n",
    "    def print_status(self):\n",
    "        print(\"高さ\",self.height)\n",
    "        print(\"幅\",self.width)\n",
    "    def area(self):\n",
    "        return self.height*self.width"
   ]
  },
  {
   "cell_type": "code",
   "execution_count": 32,
   "metadata": {},
   "outputs": [
    {
     "name": "stdout",
     "output_type": "stream",
     "text": [
      "高さ 2\n",
      "幅 3\n"
     ]
    }
   ],
   "source": [
    "r=Rectangle(2,3)\n",
    "r.print_status()"
   ]
  },
  {
   "cell_type": "code",
   "execution_count": 33,
   "metadata": {},
   "outputs": [
    {
     "name": "stdout",
     "output_type": "stream",
     "text": [
      "長方形の面積 6\n"
     ]
    }
   ],
   "source": [
    "r=Rectangle(2,3)\n",
    "print(\"長方形の面積\",r.area())"
   ]
  },
  {
   "cell_type": "code",
   "execution_count": 34,
   "metadata": {
    "collapsed": true
   },
   "outputs": [],
   "source": [
    "import numpy as np"
   ]
  },
  {
   "cell_type": "code",
   "execution_count": 35,
   "metadata": {
    "collapsed": true
   },
   "outputs": [],
   "source": [
    "# アレイを作成\n",
    "a = np.array([1,2,3,4,5,6,7]) "
   ]
  },
  {
   "cell_type": "code",
   "execution_count": 36,
   "metadata": {},
   "outputs": [
    {
     "data": {
      "text/plain": [
       "array([1, 2, 3, 4, 5, 6, 7])"
      ]
     },
     "execution_count": 36,
     "metadata": {},
     "output_type": "execute_result"
    }
   ],
   "source": [
    "# アレイの表示\n",
    "a"
   ]
  },
  {
   "cell_type": "code",
   "execution_count": 37,
   "metadata": {},
   "outputs": [
    {
     "data": {
      "text/plain": [
       "numpy.ndarray"
      ]
     },
     "execution_count": 37,
     "metadata": {},
     "output_type": "execute_result"
    }
   ],
   "source": [
    "# アレイの型を確認\n",
    "type(a)"
   ]
  },
  {
   "cell_type": "code",
   "execution_count": 39,
   "metadata": {},
   "outputs": [
    {
     "data": {
      "text/plain": [
       "(7,)"
      ]
     },
     "execution_count": 39,
     "metadata": {},
     "output_type": "execute_result"
    }
   ],
   "source": [
    "# アレイの形を表示\n",
    "a.shape\n"
   ]
  },
  {
   "cell_type": "code",
   "execution_count": 38,
   "metadata": {},
   "outputs": [
    {
     "data": {
      "text/plain": [
       "dtype('int64')"
      ]
     },
     "execution_count": 38,
     "metadata": {},
     "output_type": "execute_result"
    }
   ],
   "source": [
    "# アレイの要素の型を表示\n",
    "a.dtype"
   ]
  },
  {
   "cell_type": "code",
   "execution_count": 40,
   "metadata": {
    "collapsed": true
   },
   "outputs": [],
   "source": [
    "# アレイの作成\n",
    "a = np.array([[1,2,3,4], [5,6,7,8]])"
   ]
  },
  {
   "cell_type": "code",
   "execution_count": 41,
   "metadata": {},
   "outputs": [
    {
     "data": {
      "text/plain": [
       "array([[1, 2, 3, 4],\n",
       "       [5, 6, 7, 8]])"
      ]
     },
     "execution_count": 41,
     "metadata": {},
     "output_type": "execute_result"
    }
   ],
   "source": [
    "# アレイの表示\n",
    "a"
   ]
  },
  {
   "cell_type": "code",
   "execution_count": 42,
   "metadata": {},
   "outputs": [
    {
     "data": {
      "text/plain": [
       "(2, 4)"
      ]
     },
     "execution_count": 42,
     "metadata": {},
     "output_type": "execute_result"
    }
   ],
   "source": [
    "# アレイの形を表示\n",
    "a.shape"
   ]
  },
  {
   "cell_type": "code",
   "execution_count": 43,
   "metadata": {},
   "outputs": [
    {
     "data": {
      "text/plain": [
       "array([0, 1, 2, 3, 4, 5, 6, 7, 8, 9])"
      ]
     },
     "execution_count": 43,
     "metadata": {},
     "output_type": "execute_result"
    }
   ],
   "source": [
    "# arange\n",
    "# 基本的には、pythonのrange関数と同じ\n",
    "\n",
    "np.arange(10)"
   ]
  },
  {
   "cell_type": "code",
   "execution_count": 44,
   "metadata": {},
   "outputs": [
    {
     "data": {
      "text/plain": [
       "array([[ 1.,  1.,  1.,  1.,  1.],\n",
       "       [ 1.,  1.,  1.,  1.,  1.],\n",
       "       [ 1.,  1.,  1.,  1.,  1.]])"
      ]
     },
     "execution_count": 44,
     "metadata": {},
     "output_type": "execute_result"
    }
   ],
   "source": [
    "# (行,列)で形を指定\n",
    "\n",
    "np.ones((3, 5))"
   ]
  },
  {
   "cell_type": "code",
   "execution_count": 45,
   "metadata": {},
   "outputs": [
    {
     "data": {
      "text/plain": [
       "array([[0, 0, 0, 0, 0],\n",
       "       [0, 0, 0, 0, 0]])"
      ]
     },
     "execution_count": 45,
     "metadata": {},
     "output_type": "execute_result"
    }
   ],
   "source": [
    "# zeros\n",
    "# dtype（データ型）を指定することもできる。\n",
    "\n",
    "np.zeros((2,5), dtype='int64')"
   ]
  },
  {
   "cell_type": "code",
   "execution_count": 53,
   "metadata": {
    "collapsed": true
   },
   "outputs": [],
   "source": [
    "arr = np.array([[1,2,3], [4,5,6]])"
   ]
  },
  {
   "cell_type": "code",
   "execution_count": 49,
   "metadata": {},
   "outputs": [
    {
     "data": {
      "text/plain": [
       "array([[1, 2, 3],\n",
       "       [4, 5, 6]])"
      ]
     },
     "execution_count": 49,
     "metadata": {},
     "output_type": "execute_result"
    }
   ],
   "source": [
    "arr"
   ]
  },
  {
   "cell_type": "code",
   "execution_count": 50,
   "metadata": {},
   "outputs": [
    {
     "data": {
      "text/plain": [
       "array([[ 1,  4,  9],\n",
       "       [16, 25, 36]])"
      ]
     },
     "execution_count": 50,
     "metadata": {},
     "output_type": "execute_result"
    }
   ],
   "source": [
    "arr * arr"
   ]
  },
  {
   "cell_type": "code",
   "execution_count": 51,
   "metadata": {},
   "outputs": [
    {
     "data": {
      "text/plain": [
       "array([[ 5, 10, 15],\n",
       "       [20, 25, 30]])"
      ]
     },
     "execution_count": 51,
     "metadata": {},
     "output_type": "execute_result"
    }
   ],
   "source": [
    "5 * arr"
   ]
  },
  {
   "cell_type": "code",
   "execution_count": 55,
   "metadata": {},
   "outputs": [
    {
     "data": {
      "text/plain": [
       "array([4, 5, 6])"
      ]
     },
     "execution_count": 55,
     "metadata": {},
     "output_type": "execute_result"
    }
   ],
   "source": [
    "# 三行目にアクセスする\n",
    "arr[1]"
   ]
  },
  {
   "cell_type": "code",
   "execution_count": 56,
   "metadata": {},
   "outputs": [
    {
     "data": {
      "text/plain": [
       "6"
      ]
     },
     "execution_count": 56,
     "metadata": {},
     "output_type": "execute_result"
    }
   ],
   "source": [
    "# ２行、３列にアクセスする\n",
    "arr[1, 2]"
   ]
  },
  {
   "cell_type": "code",
   "execution_count": 57,
   "metadata": {},
   "outputs": [
    {
     "data": {
      "text/plain": [
       "array([[[1, 2, 3],\n",
       "        [4, 5, 6]],\n",
       "\n",
       "       [[7, 8, 9],\n",
       "        [0, 1, 2]]])"
      ]
     },
     "execution_count": 57,
     "metadata": {},
     "output_type": "execute_result"
    }
   ],
   "source": [
    "arr = np.array([[[1,2,3], [4,5,6]], [[7,8,9], [0,1,2]]])\n",
    "arr"
   ]
  },
  {
   "cell_type": "code",
   "execution_count": 59,
   "metadata": {},
   "outputs": [
    {
     "data": {
      "text/plain": [
       "array([[0, 1, 2],\n",
       "       [3, 4, 5],\n",
       "       [6, 7, 8]])"
      ]
     },
     "execution_count": 59,
     "metadata": {},
     "output_type": "execute_result"
    }
   ],
   "source": [
    "arr = np.arange(9).reshape((3,3))\n",
    "arr"
   ]
  },
  {
   "cell_type": "code",
   "execution_count": 61,
   "metadata": {},
   "outputs": [
    {
     "data": {
      "text/plain": [
       "array([[0, 3, 6],\n",
       "       [1, 4, 7],\n",
       "       [2, 5, 8]])"
      ]
     },
     "execution_count": 61,
     "metadata": {},
     "output_type": "execute_result"
    }
   ],
   "source": [
    "# 転置行列の作成\n",
    "arr.T"
   ]
  },
  {
   "cell_type": "code",
   "execution_count": 62,
   "metadata": {},
   "outputs": [
    {
     "data": {
      "text/plain": [
       "array([0, 1, 2, 3, 4, 5, 6, 7, 8, 9])"
      ]
     },
     "execution_count": 62,
     "metadata": {},
     "output_type": "execute_result"
    }
   ],
   "source": [
    "arr = np.arange(10)\n",
    "arr"
   ]
  },
  {
   "cell_type": "code",
   "execution_count": 63,
   "metadata": {},
   "outputs": [
    {
     "data": {
      "text/plain": [
       "array([ 0.        ,  1.        ,  1.41421356,  1.73205081,  2.        ,\n",
       "        2.23606798,  2.44948974,  2.64575131,  2.82842712,  3.        ])"
      ]
     },
     "execution_count": 63,
     "metadata": {},
     "output_type": "execute_result"
    }
   ],
   "source": [
    "# 平方根の計算\n",
    "np.sqrt(arr)"
   ]
  },
  {
   "cell_type": "code",
   "execution_count": 64,
   "metadata": {},
   "outputs": [
    {
     "data": {
      "text/plain": [
       "array([  1.00000000e+00,   2.71828183e+00,   7.38905610e+00,\n",
       "         2.00855369e+01,   5.45981500e+01,   1.48413159e+02,\n",
       "         4.03428793e+02,   1.09663316e+03,   2.98095799e+03,\n",
       "         8.10308393e+03])"
      ]
     },
     "execution_count": 64,
     "metadata": {},
     "output_type": "execute_result"
    }
   ],
   "source": [
    "# 自然対数の底ｅの累乗\n",
    "np.exp(arr)"
   ]
  },
  {
   "cell_type": "code",
   "execution_count": 65,
   "metadata": {},
   "outputs": [
    {
     "data": {
      "text/plain": [
       "array([-0.02724026,  0.30744908,  0.43814717, -1.94763274,  0.33590243,\n",
       "       -0.91845667,  0.37481045, -1.8436479 , -0.48420159,  0.37683177])"
      ]
     },
     "execution_count": 65,
     "metadata": {},
     "output_type": "execute_result"
    }
   ],
   "source": [
    "# 正規分布に従う乱数を生成\n",
    "A = np.random.randn(10)\n",
    "A"
   ]
  },
  {
   "cell_type": "code",
   "execution_count": 66,
   "metadata": {},
   "outputs": [
    {
     "data": {
      "text/plain": [
       "array([-1.,  1.,  1., -1.,  1., -1.,  1., -1., -1.,  1.])"
      ]
     },
     "execution_count": 66,
     "metadata": {},
     "output_type": "execute_result"
    }
   ],
   "source": [
    "# 要素ごとの符号を返す（正は1、負は-1）\n",
    "np.sign(A)"
   ]
  },
  {
   "cell_type": "code",
   "execution_count": 68,
   "metadata": {
    "collapsed": true
   },
   "outputs": [],
   "source": [
    "tmp = np.array([ 0.54090848,  0.70922084,  0.57458547,  0.55307476,  0.738459  ])\n"
   ]
  },
  {
   "cell_type": "code",
   "execution_count": 69,
   "metadata": {},
   "outputs": [
    {
     "data": {
      "text/plain": [
       "0.62324970999999996"
      ]
     },
     "execution_count": 69,
     "metadata": {},
     "output_type": "execute_result"
    }
   ],
   "source": [
    "# 平均を出力\n",
    "tmp.mean()"
   ]
  },
  {
   "cell_type": "code",
   "execution_count": 70,
   "metadata": {},
   "outputs": [
    {
     "data": {
      "text/plain": [
       "0.083351095632839739"
      ]
     },
     "execution_count": 70,
     "metadata": {},
     "output_type": "execute_result"
    }
   ],
   "source": [
    "# 標準偏差を出力\n",
    "tmp.std()"
   ]
  },
  {
   "cell_type": "code",
   "execution_count": 71,
   "metadata": {},
   "outputs": [
    {
     "data": {
      "text/plain": [
       "0     3\n",
       "1     7\n",
       "2    10\n",
       "3    13\n",
       "dtype: int64"
      ]
     },
     "execution_count": 71,
     "metadata": {},
     "output_type": "execute_result"
    }
   ],
   "source": [
    "import pandas as pd\n",
    "from pandas import Series\n",
    "obj = Series([3,7,10,13])\n",
    "obj"
   ]
  },
  {
   "cell_type": "code",
   "execution_count": 72,
   "metadata": {},
   "outputs": [
    {
     "data": {
      "text/plain": [
       "0     3\n",
       "1     7\n",
       "2    10\n",
       "3    13\n",
       "dtype: int64"
      ]
     },
     "execution_count": 72,
     "metadata": {},
     "output_type": "execute_result"
    }
   ],
   "source": [
    "import numpy as np\n",
    "\n",
    "numpy_array = np.array([3,7,10,13])\n",
    "\n",
    "Series(numpy_array)"
   ]
  },
  {
   "cell_type": "code",
   "execution_count": 73,
   "metadata": {},
   "outputs": [
    {
     "data": {
      "text/plain": [
       "array([ 3,  7, 10, 13])"
      ]
     },
     "execution_count": 73,
     "metadata": {},
     "output_type": "execute_result"
    }
   ],
   "source": [
    "# データ配列を表示\n",
    "# Seriesやこの後出てくるDataFrameでは、.\"values\"によってデータ配列を取り出すことができます。\n",
    "\n",
    "obj.values"
   ]
  },
  {
   "cell_type": "code",
   "execution_count": 74,
   "metadata": {},
   "outputs": [
    {
     "data": {
      "text/plain": [
       "RangeIndex(start=0, stop=4, step=1)"
      ]
     },
     "execution_count": 74,
     "metadata": {},
     "output_type": "execute_result"
    }
   ],
   "source": [
    "# インデックスを表示\n",
    "obj.index"
   ]
  },
  {
   "cell_type": "code",
   "execution_count": 75,
   "metadata": {
    "collapsed": true
   },
   "outputs": [],
   "source": [
    "obj2 = Series([3,7,10,13], index=['apple', 'orange', 'mango', 'peach'])"
   ]
  },
  {
   "cell_type": "code",
   "execution_count": 76,
   "metadata": {},
   "outputs": [
    {
     "data": {
      "text/plain": [
       "apple      3\n",
       "orange     7\n",
       "mango     10\n",
       "peach     13\n",
       "dtype: int64"
      ]
     },
     "execution_count": 76,
     "metadata": {},
     "output_type": "execute_result"
    }
   ],
   "source": [
    "obj2"
   ]
  },
  {
   "cell_type": "code",
   "execution_count": 78,
   "metadata": {},
   "outputs": [
    {
     "data": {
      "text/plain": [
       "7"
      ]
     },
     "execution_count": 78,
     "metadata": {},
     "output_type": "execute_result"
    }
   ],
   "source": [
    "obj2[\"orange\"]"
   ]
  },
  {
   "cell_type": "code",
   "execution_count": 79,
   "metadata": {},
   "outputs": [
    {
     "data": {
      "text/plain": [
       "orange     7\n",
       "peach     13\n",
       "mango     10\n",
       "dtype: int64"
      ]
     },
     "execution_count": 79,
     "metadata": {},
     "output_type": "execute_result"
    }
   ],
   "source": [
    "obj2[[\"orange\",\"peach\",\"mango\"]]"
   ]
  },
  {
   "cell_type": "code",
   "execution_count": 80,
   "metadata": {},
   "outputs": [
    {
     "data": {
      "text/plain": [
       "apple     False\n",
       "orange     True\n",
       "mango      True\n",
       "peach      True\n",
       "dtype: bool"
      ]
     },
     "execution_count": 80,
     "metadata": {},
     "output_type": "execute_result"
    }
   ],
   "source": [
    "obj2>=5"
   ]
  },
  {
   "cell_type": "code",
   "execution_count": 81,
   "metadata": {},
   "outputs": [
    {
     "data": {
      "text/plain": [
       "orange     7\n",
       "mango     10\n",
       "peach     13\n",
       "dtype: int64"
      ]
     },
     "execution_count": 81,
     "metadata": {},
     "output_type": "execute_result"
    }
   ],
   "source": [
    "# 5以上のデータ値を持つものは？\n",
    "obj2[obj2>=5]"
   ]
  },
  {
   "cell_type": "code",
   "execution_count": 82,
   "metadata": {},
   "outputs": [
    {
     "data": {
      "text/html": [
       "<div>\n",
       "<style>\n",
       "    .dataframe thead tr:only-child th {\n",
       "        text-align: right;\n",
       "    }\n",
       "\n",
       "    .dataframe thead th {\n",
       "        text-align: left;\n",
       "    }\n",
       "\n",
       "    .dataframe tbody tr th {\n",
       "        vertical-align: top;\n",
       "    }\n",
       "</style>\n",
       "<table border=\"1\" class=\"dataframe\">\n",
       "  <thead>\n",
       "    <tr style=\"text-align: right;\">\n",
       "      <th></th>\n",
       "      <th>名前</th>\n",
       "      <th>年齢</th>\n",
       "      <th>性別</th>\n",
       "    </tr>\n",
       "  </thead>\n",
       "  <tbody>\n",
       "    <tr>\n",
       "      <th>0</th>\n",
       "      <td>山田</td>\n",
       "      <td>20</td>\n",
       "      <td>男</td>\n",
       "    </tr>\n",
       "    <tr>\n",
       "      <th>1</th>\n",
       "      <td>鈴木</td>\n",
       "      <td>34</td>\n",
       "      <td>男</td>\n",
       "    </tr>\n",
       "    <tr>\n",
       "      <th>2</th>\n",
       "      <td>佐藤</td>\n",
       "      <td>50</td>\n",
       "      <td>女</td>\n",
       "    </tr>\n",
       "    <tr>\n",
       "      <th>3</th>\n",
       "      <td>田中</td>\n",
       "      <td>12</td>\n",
       "      <td>男</td>\n",
       "    </tr>\n",
       "    <tr>\n",
       "      <th>4</th>\n",
       "      <td>斉藤</td>\n",
       "      <td>62</td>\n",
       "      <td>女</td>\n",
       "    </tr>\n",
       "  </tbody>\n",
       "</table>\n",
       "</div>"
      ],
      "text/plain": [
       "   名前  年齢 性別\n",
       "0  山田  20  男\n",
       "1  鈴木  34  男\n",
       "2  佐藤  50  女\n",
       "3  田中  12  男\n",
       "4  斉藤  62  女"
      ]
     },
     "execution_count": 82,
     "metadata": {},
     "output_type": "execute_result"
    }
   ],
   "source": [
    "df = pd.DataFrame(\n",
    "    {'名前': ['山田', '鈴木', '佐藤', '田中', '斉藤'],   # 長さ：５\n",
    "     '年齢': [20, 34, 50, 12, 62],                           # 長さ：5\n",
    "     '性別':['男', '男', '女', '男', '女']                        # 長さ:5\n",
    "    }\n",
    ")\n",
    "\n",
    "df"
   ]
  },
  {
   "cell_type": "code",
   "execution_count": 83,
   "metadata": {},
   "outputs": [
    {
     "data": {
      "text/html": [
       "<div>\n",
       "<style>\n",
       "    .dataframe thead tr:only-child th {\n",
       "        text-align: right;\n",
       "    }\n",
       "\n",
       "    .dataframe thead th {\n",
       "        text-align: left;\n",
       "    }\n",
       "\n",
       "    .dataframe tbody tr th {\n",
       "        vertical-align: top;\n",
       "    }\n",
       "</style>\n",
       "<table border=\"1\" class=\"dataframe\">\n",
       "  <thead>\n",
       "    <tr style=\"text-align: right;\">\n",
       "      <th></th>\n",
       "      <th>名前</th>\n",
       "      <th>性別</th>\n",
       "      <th>年齢</th>\n",
       "    </tr>\n",
       "  </thead>\n",
       "  <tbody>\n",
       "    <tr>\n",
       "      <th>1</th>\n",
       "      <td>山田</td>\n",
       "      <td>男</td>\n",
       "      <td>20</td>\n",
       "    </tr>\n",
       "    <tr>\n",
       "      <th>2</th>\n",
       "      <td>鈴木</td>\n",
       "      <td>女</td>\n",
       "      <td>34</td>\n",
       "    </tr>\n",
       "    <tr>\n",
       "      <th>3</th>\n",
       "      <td>佐藤</td>\n",
       "      <td>男</td>\n",
       "      <td>50</td>\n",
       "    </tr>\n",
       "    <tr>\n",
       "      <th>4</th>\n",
       "      <td>田中</td>\n",
       "      <td>女</td>\n",
       "      <td>12</td>\n",
       "    </tr>\n",
       "    <tr>\n",
       "      <th>5</th>\n",
       "      <td>斉藤</td>\n",
       "      <td>NaN</td>\n",
       "      <td>62</td>\n",
       "    </tr>\n",
       "  </tbody>\n",
       "</table>\n",
       "</div>"
      ],
      "text/plain": [
       "   名前   性別  年齢\n",
       "1  山田    男  20\n",
       "2  鈴木    女  34\n",
       "3  佐藤    男  50\n",
       "4  田中    女  12\n",
       "5  斉藤  NaN  62"
      ]
     },
     "execution_count": 83,
     "metadata": {},
     "output_type": "execute_result"
    }
   ],
   "source": [
    "df = pd.DataFrame(\n",
    "    {'名前': {1:'山田', 2:'鈴木', 3:'佐藤', 4:'田中', 5:'斉藤'},\n",
    "     '年齢': np.array([20, 34, 50, 12, 62]),\n",
    "     '性別': pd.Series(['男', '男', '女', '男', '女'])},\n",
    "    columns=['名前', '性別', '年齢'],      # 順番の指定\n",
    "    index=[1,2,3,4,5]                            # インデックスの指定\n",
    ")\n",
    "\n",
    "df"
   ]
  },
  {
   "cell_type": "code",
   "execution_count": 84,
   "metadata": {
    "collapsed": true
   },
   "outputs": [],
   "source": [
    "# matplotlibのインポート\n",
    "import matplotlib.pyplot as plt\n",
    "% matplotlib inline"
   ]
  },
  {
   "cell_type": "code",
   "execution_count": 85,
   "metadata": {
    "collapsed": true
   },
   "outputs": [],
   "source": [
    "# サンプルとなるデータセットの作成\n",
    "import numpy as np\n",
    "np.random.seed(0)                       # 乱数生成器の状態を指定\n",
    "x_1 = np.random.normal(50, 10, 100)     # 平均50､標準偏差10の正規分布に従うデータ点を100個生成\n",
    "y_1 = x_1 + np.random.normal(0, 5, 100) # xに対応するyの値を算出"
   ]
  },
  {
   "cell_type": "code",
   "execution_count": 86,
   "metadata": {},
   "outputs": [
    {
     "data": {
      "text/plain": [
       "array([ 67.64052346,  54.00157208,  59.78737984,  72.40893199,\n",
       "        68.6755799 ,  40.2272212 ,  59.50088418,  48.48642792,\n",
       "        48.96781148,  54.10598502,  51.44043571,  64.54273507,\n",
       "        57.61037725,  51.21675016,  54.43863233,  53.33674327,\n",
       "        64.94079073,  47.94841736,  53.13067702,  41.45904261,\n",
       "        24.47010184,  56.53618595,  58.64436199,  42.5783498 ])"
      ]
     },
     "execution_count": 86,
     "metadata": {},
     "output_type": "execute_result"
    }
   ],
   "source": [
    "# x_1を数値で出力\n",
    "x_1[:24]"
   ]
  },
  {
   "cell_type": "code",
   "execution_count": 87,
   "metadata": {},
   "outputs": [
    {
     "data": {
      "text/plain": [
       "array([ 77.05627694,  47.26277678,  53.43495485,  77.25591553,\n",
       "        62.80996288,  49.94532713,  57.43278927,  44.74915386,\n",
       "        58.58252161,  61.50855898,  60.77823051,  69.07295836,\n",
       "        53.30424883,  60.76707493,  53.09861547,  57.34902525,\n",
       "        69.67705057,  47.1733669 ,  56.20107387,  46.07007596,\n",
       "        26.3522295 ,  51.039182  ,  60.13555286,  49.21027928])"
      ]
     },
     "execution_count": 87,
     "metadata": {},
     "output_type": "execute_result"
    }
   ],
   "source": [
    "# y_1を数値で出力\n",
    "y_1[:24]"
   ]
  },
  {
   "cell_type": "code",
   "execution_count": 88,
   "metadata": {},
   "outputs": [
    {
     "data": {
      "image/png": "[encoded data removed]",
      "text/plain": [
       "<matplotlib.figure.Figure at 0x112792f60>"
      ]
     },
     "metadata": {},
     "output_type": "display_data"
    }
   ],
   "source": [
    "# 散布図をプロット\n",
    "plt.scatter(x_1, y_1)                    # 散布図を表示\n",
    "plt.show()                               # 指示した内容でグラフを描画"
   ]
  },
  {
   "cell_type": "code",
   "execution_count": 89,
   "metadata": {},
   "outputs": [
    {
     "data": {
      "image/png": "[encoded data removed]",
      "text/plain": [
       "<matplotlib.figure.Figure at 0x11accdd30>"
      ]
     },
     "metadata": {},
     "output_type": "display_data"
    }
   ],
   "source": [
    "# タイトルを追加してプロット\n",
    "plt.scatter(x_1, y_1)                         # 散布図を表示\n",
    "plt.title('The relationship between x and y') # グラフのタイトルを表示\n",
    "plt.show()                                    # 指示した内容でグラフを描画\n"
   ]
  },
  {
   "cell_type": "code",
   "execution_count": 90,
   "metadata": {},
   "outputs": [
    {
     "data": {
      "image/png": "[encoded data removed]",
      "text/plain": [
       "<matplotlib.figure.Figure at 0x11ade6780>"
      ]
     },
     "metadata": {},
     "output_type": "display_data"
    }
   ],
   "source": [
    "# ラベルを追加してプロット\n",
    "plt.scatter(x_1, y_1)                         # 散布図を表示\n",
    "plt.title('The relationship between x and y') # グラフのタイトルを表示\n",
    "plt.xlabel('x')                               # x軸のラベルを表示\n",
    "plt.ylabel('y')                               # y軸のラベルを表示\n",
    "plt.show()                                    # 指示した内容でグラフを描画\n"
   ]
  },
  {
   "cell_type": "code",
   "execution_count": 91,
   "metadata": {},
   "outputs": [
    {
     "data": {
      "image/png": "[encoded data removed]",
      "text/plain": [
       "<matplotlib.figure.Figure at 0x11ae9e240>"
      ]
     },
     "metadata": {},
     "output_type": "display_data"
    }
   ],
   "source": [
    "# colorを指定してプロット\n",
    "plt.scatter(x_1, y_1, color='y')            # colorを指定して散布図を表示\n",
    "plt.title('The relationship between x and y') # グラフのタイトルを表示\n",
    "plt.xlabel('x')                               # x軸のラベルを表示\n",
    "plt.ylabel('y')                               # y軸のラベルを表示\n",
    "plt.show()                                    # 指示した内容でグラフを描画"
   ]
  },
  {
   "cell_type": "code",
   "execution_count": 93,
   "metadata": {
    "collapsed": true
   },
   "outputs": [],
   "source": [
    "# 中のコードは気になくても大丈夫です\n",
    "x_2 = np.random.normal(30, 5, 100)                  # 平均30､標準偏差5の正規分布に従うデータ点を100個生成\n",
    "y_2 = 2.5 * x_2 + np.random.normal(0, 10, len(x_2)) # xに対応するyの値を算出"
   ]
  },
  {
   "cell_type": "code",
   "execution_count": 94,
   "metadata": {},
   "outputs": [
    {
     "data": {
      "image/png": "[encoded data removed]",
      "text/plain": [
       "<matplotlib.figure.Figure at 0x11ae3e240>"
      ]
     },
     "metadata": {},
     "output_type": "display_data"
    }
   ],
   "source": [
    "# 散布図を重ねてプロット\n",
    "# 色を分けてあるので見やすい\n",
    "plt.scatter(x_1, y_1, color='red')                 # 1つ目のデータの散布図を､色を指定してプロット\n",
    "plt.scatter(x_2, y_2, color='blue')                # 2つ目のデータの散布図を､色を指定してプロット\n",
    "plt.title('The relationship between x and y') # グラフのタイトルを表示\n",
    "plt.xlabel('x')                               # x軸のラベルを表示\n",
    "plt.ylabel('y')                               # y軸のラベルを表示\n",
    "plt.show()                                    # 指示した内容でグラフを描画"
   ]
  },
  {
   "cell_type": "code",
   "execution_count": 95,
   "metadata": {},
   "outputs": [
    {
     "data": {
      "image/png": "[encoded data removed]",
      "text/plain": [
       "<matplotlib.figure.Figure at 0x11b0ed2b0>"
      ]
     },
     "metadata": {},
     "output_type": "display_data"
    }
   ],
   "source": [
    "# markerを指定してプロット\n",
    "plt.scatter(x_1, y_1, color='red', marker='s')  # 1つ目のデータの散布図を､markerを指定してプロット\n",
    "plt.scatter(x_2, y_2, color='blue', marker='*') # 2つ目のデータの散布図を､markerを指定してプロット\n",
    "plt.title('The relationship between x and y')      # グラフのタイトルを表示\n",
    "plt.xlabel('x')                                                          # x軸のラベルを表示\n",
    "plt.ylabel('y')                                                          # y軸のラベルを表示\n",
    "plt.show()                                                               # 指示した内容でグラフを描画"
   ]
  },
  {
   "cell_type": "code",
   "execution_count": 96,
   "metadata": {},
   "outputs": [
    {
     "data": {
      "image/png": "[encoded data removed]",
      "text/plain": [
       "<matplotlib.figure.Figure at 0x11b24a5c0>"
      ]
     },
     "metadata": {},
     "output_type": "display_data"
    }
   ],
   "source": [
    "# 凡例を追加してプロット\n",
    "plt.scatter(x_1, y_1, color='red', marker='s', label='data1')  # 1つ目のデータの散布図を､ラベルを指定してプロット\n",
    "plt.scatter(x_2, y_2, color='blue', marker='x', label='data2') # 2つ目のデータの散布図を､ラベルを指定してプロット\n",
    "plt.title('The relationship between x and y')                               # グラフのタイトルを表示\n",
    "plt.xlabel('x')                                                # x軸のラベルを表示\n",
    "plt.ylabel('y')                                                # y軸のラベルを表示\n",
    "plt.legend(loc='lower right')                       # 凡例を表示\n",
    "plt.show()                                                     # 指示した内容でグラフを描画"
   ]
  },
  {
   "cell_type": "code",
   "execution_count": 97,
   "metadata": {},
   "outputs": [
    {
     "data": {
      "image/png": "[encoded data removed]",
      "text/plain": [
       "<matplotlib.figure.Figure at 0x11ae48f60>"
      ]
     },
     "metadata": {},
     "output_type": "display_data"
    }
   ],
   "source": [
    "# 目盛りをリストで指定してプロット\n",
    "plt.scatter(x_1, y_1, color='red', marker='s', label='data1')   # 1つ目のデータの散布図を､ラベルを指定してプロット\n",
    "plt.scatter(x_2, y_2, color='blue', marker='x', label='data2') # 2つ目のデータの散布図を､ラベルを指定してプロット\n",
    "plt.title('The relationship between x and y')                               # グラフのタイトルを表示\n",
    "plt.xlabel('x')                                                                                   # x軸のラベルを表示\n",
    "plt.ylabel('y')                                                                                   # y軸のラベルを表示\n",
    "plt.legend(loc='upper right')                                                         # 凡例を表示\n",
    "plt.xticks([20, 50, 80])                                                                 # x軸の目盛りを指定\n",
    "plt.yticks([20, 50, 80, 110])                                                        # y軸の目盛りを指定\n",
    "plt.show()                                                                                        # 指示した内容でグラフを描画"
   ]
  },
  {
   "cell_type": "code",
   "execution_count": 98,
   "metadata": {},
   "outputs": [
    {
     "data": {
      "image/png": "[encoded data removed]",
      "text/plain": [
       "<matplotlib.figure.Figure at 0x11b24a908>"
      ]
     },
     "metadata": {},
     "output_type": "display_data"
    }
   ],
   "source": [
    "# 目盛りをnp.arange()で指定してプロット\n",
    "plt.scatter(x_1, y_1, color='red', marker='s', label='data1')  # 1つ目のデータの散布図を､ラベルを指定してプロット\n",
    "plt.scatter(x_2, y_2, color='blue', marker='x', label='data2') # 2つ目のデータの散布図を､ラベルを指定してプロット\n",
    "plt.title('The relationship between x_1 and y_1')                     # グラフのタイトルを表示\n",
    "plt.xlabel('feature')                                       # x軸のラベルを表示\n",
    "plt.ylabel('value')                                          # y軸のラベルを表示\n",
    "plt.legend(loc='upper right')                       # 凡例を表示\n",
    "plt.xticks(np.arange(10, 80, 5))                # x軸の目盛りを指定\n",
    "plt.yticks(np.arange(10, 130, 10))           # y軸の目盛りを指定\n",
    "plt.show()                                                     # 指示した内容でグラフを描画"
   ]
  },
  {
   "cell_type": "code",
   "execution_count": 99,
   "metadata": {},
   "outputs": [
    {
     "data": {
      "image/png": "[encoded data removed]",
      "text/plain": [
       "<matplotlib.figure.Figure at 0x11b44aa20>"
      ]
     },
     "metadata": {},
     "output_type": "display_data"
    }
   ],
   "source": [
    "# グリッド線を表示してプロット\n",
    "plt.scatter(x_1, y_1, color='red', marker='s', label='data1')  # 1つ目のデータの散布図を､ラベルを指定してプロット\n",
    "plt.scatter(x_2, y_2, color='blue', marker='x', label='data2') # 2つ目のデータの散布図を､ラベルを指定してプロット\n",
    "plt.title('The relationship between x and y')                  # グラフのタイトルを表示\n",
    "plt.xlabel('x')                                                                     # x軸のラベルを表示\n",
    "plt.ylabel('y')                                                                     # y軸のラベルを表示\n",
    "plt.legend(loc='upper right')                                           # 凡例を表示\n",
    "plt.xticks(np.arange(10, 80, 5))                                    # x軸の目盛りを指定\n",
    "plt.yticks(np.arange(10, 130, 10))                               # y軸の目盛りを指定\n",
    "plt.grid()                                                                            # グリッド線を表示\n",
    "plt.show()                                                                         # 指示した内容でグラフを描画"
   ]
  },
  {
   "cell_type": "code",
   "execution_count": 100,
   "metadata": {
    "collapsed": true
   },
   "outputs": [],
   "source": [
    "# 適当なデータセットを作成\n",
    "x_3 = np.arange(-10, 10, 0.1)                          # -10から10までの範囲を100分割したarray\n",
    "y_3 = 0.001 * (x_3**3 + x_3**2 + x_3 + 1)  # 三次関数を適用する"
   ]
  },
  {
   "cell_type": "code",
   "execution_count": 101,
   "metadata": {},
   "outputs": [
    {
     "data": {
      "image/png": "[encoded data removed]",
      "text/plain": [
       "<matplotlib.figure.Figure at 0x11b55e438>"
      ]
     },
     "metadata": {},
     "output_type": "display_data"
    }
   ],
   "source": [
    "# グラフのプロット\n",
    "plt.plot(x_3, y_3)  # グラフをプロットする\n",
    "plt.show()          # グラフを表示する"
   ]
  },
  {
   "cell_type": "code",
   "execution_count": 102,
   "metadata": {},
   "outputs": [
    {
     "data": {
      "image/png": "[encoded data removed]",
      "text/plain": [
       "<matplotlib.figure.Figure at 0x11adf9fd0>"
      ]
     },
     "metadata": {},
     "output_type": "display_data"
    }
   ],
   "source": [
    "# より詳細なグラフをプロット\n",
    "plt.plot(x_3, y_3, label='cubic')      # 凡例のらめにlabelで凡例名をつける\n",
    "plt.title('a cubic function')                # グラフのタイトルを追加\n",
    "plt.xlabel('x')                                       # x軸のラベルを表示\n",
    "plt.ylabel('y')                                       # y軸のラベルを表示\n",
    "plt.legend(loc='upper left')               # 凡例を表示\n",
    "plt.xticks(np.arange(-10, 11, 1))     # x軸のラベルを指定\n",
    "plt.yticks(np.arange(-1, 1.5, 0.25)) # y軸のラベルを指定\n",
    "plt.grid()                                               # グリッド線の表示\n",
    "plt.show()                                             # 指示した内容でグラフを描画"
   ]
  },
  {
   "cell_type": "code",
   "execution_count": 103,
   "metadata": {},
   "outputs": [
    {
     "data": {
      "image/png": "[encoded data removed]",
      "text/plain": [
       "<matplotlib.figure.Figure at 0x11ae35cc0>"
      ]
     },
     "metadata": {},
     "output_type": "display_data"
    }
   ],
   "source": [
    "# 軸に平行な破線を追加してプロット\n",
    "plt.plot(x_3, y_3, label='cubic')             # 凡例のらめにlabelで凡例名をつける\n",
    "plt.title('a cubic function')                       # グラフのタイトルを追加\n",
    "plt.xlabel('x')                                              # x軸のラベルを表示\n",
    "plt.ylabel('y')                                              # y軸のラベルを表示\n",
    "plt.legend(loc='upper left')                      # 凡例を表示\n",
    "plt.xticks(np.arange(-10, 11, 1))            # x軸のラベルを指定\n",
    "plt.yticks(np.arange(-1, 1.5, 0.25))       # y軸のラベルを指定\n",
    "plt.grid()                                                     # グリッド線の表示\n",
    "plt.hlines([0], -10, 10, linestyles='dashed', color='gray') # x軸に平行な直線を表示\n",
    "plt.vlines([0], -1, 1, linestyles='dashed', color='gray')      # y軸に平行な直線を表示\n",
    "plt.show()                                                  # 指示した内容でグラフを描画"
   ]
  },
  {
   "cell_type": "code",
   "execution_count": 104,
   "metadata": {},
   "outputs": [
    {
     "data": {
      "image/png": "[encoded data removed]",
      "text/plain": [
       "<matplotlib.figure.Figure at 0x11b111978>"
      ]
     },
     "metadata": {},
     "output_type": "display_data"
    }
   ],
   "source": [
    "# グラフの表示位置を指定してプロット\n",
    "plt.plot(x_3, y_3, label='cubic')             # 凡例のらめにlabelで凡例名をつける\n",
    "plt.title('a cubic function')                       # グラフのタイトルを追加\n",
    "plt.xlabel('x')                                             # x軸のラベルを表示\n",
    "plt.ylabel('y')                                             # y軸のラベルを表示\n",
    "plt.legend(loc='upper left')                     # 凡例を表示\n",
    "plt.xticks(np.arange(-10, 11, 1))           # x軸のラベルを指定\n",
    "plt.yticks(np.arange(-1, 1.5, 0.25))      # y軸のラベルを指定\n",
    "plt.grid()                                                    # グリッド線の表示\n",
    "plt.hlines([0], -10, 10, linestyles='dashed', color='gray') # x軸に平行な直線を表示\n",
    "plt.vlines([0], -1, 1, linestyles='dashed', color='gray')      # y軸に平行な直線を表示\n",
    "plt.xlim([-5, 5])                           # x軸方向の表示範囲を指定\n",
    "plt.ylim([-1, 1])                           # y軸方向の表示範囲を指定\n",
    "plt.show()                                    # 指示した内容でグラフを描画"
   ]
  },
  {
   "cell_type": "code",
   "execution_count": 4,
   "metadata": {},
   "outputs": [
    {
     "name": "stdout",
     "output_type": "stream",
     "text": [
      "Hello World!\n",
      "naoyan_apple@yahoo.co.jp\n"
     ]
    }
   ],
   "source": [
    "msg = \"Hello World!\"\n",
    "print(msg)\n",
    "Admin_email = \"naoyan_apple@yahoo.co.jp\"\n",
    "print(Admin_email)"
   ]
  },
  {
   "cell_type": "code",
   "execution_count": null,
   "metadata": {
    "collapsed": true
   },
   "outputs": [],
   "source": []
  }
 ],
 "metadata": {
  "kernelspec": {
   "display_name": "Python 3",
   "language": "python",
   "name": "python3"
  },
  "language_info": {
   "codemirror_mode": {
    "name": "ipython",
    "version": 3
   },
   "file_extension": ".py",
   "mimetype": "text/x-python",
   "name": "python",
   "nbconvert_exporter": "python",
   "pygments_lexer": "ipython3",
   "version": "3.6.2"
  }
 },
 "nbformat": 4,
 "nbformat_minor": 2
}
